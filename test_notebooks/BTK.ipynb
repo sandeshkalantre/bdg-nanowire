{
 "cells": [
  {
   "cell_type": "markdown",
   "metadata": {},
   "source": [
    "# Transport Results for SN junction\n",
    "\n",
    "This notebook presents NEGF code to model a Superconductor-Normal metal (SN) junction. A thin insulating barrier is assumed to be present between the superconductor and the normal metal. \n",
    "\n",
    "The aim of this notebook is to match BTK results obtained using scattering theory."
   ]
  },
  {
   "cell_type": "code",
   "execution_count": 11,
   "metadata": {
    "collapsed": true
   },
   "outputs": [],
   "source": [
    "import numpy as np\n",
    "import matplotlib.pyplot as plt\n",
    "%matplotlib inline\n",
    "import itertools\n",
    "import scipy.special\n",
    "\n",
    "# The SN junction is modelled using a tight-binding Hamiltonian in one dimension\n",
    "# The function presented here is more general and can be used for finite cross section nanowires\n",
    "def create_Hamiltonian(dimensions,physical_parameters):\n",
    "    '''\n",
    "    dimensions : dictionary with the following three numbers,\n",
    "        N_lat : number of points laterally\n",
    "        N_z : number of points in the z direction\n",
    "        N_int : number of internal degrees of freedom = 1,2,4\n",
    "    physical_paramters : dictionary with the revelant physical parameters\n",
    "    '''\n",
    "    N_lat = dimensions['N_lat']\n",
    "    N_z = dimensions['N_z']\n",
    "    N_int = dimensions['N_int']\n",
    "    \n",
    "    t = physical_parameters['t']\n",
    "    Delta = physical_parameters['Delta']\n",
    "    mu = physical_parameters['mu']\n",
    "    \n",
    "    # Hamiltonian element functions\n",
    "    def create_alpha(ind):\n",
    "        if N_int == 1:\n",
    "            alpha = 2*t - mu\n",
    "        elif N_int == 2:\n",
    "            alpha = np.array([[2*t-mu,Delta],[np.conj(Delta),-2*t+mu]])\n",
    "        \n",
    "        return alpha\n",
    "\n",
    "    def create_beta(ind1,ind2):\n",
    "        if N_int == 1:\n",
    "            beta = -t\n",
    "        elif N_int == 2:\n",
    "            beta = np.array([[-t,0],[0,t]])\n",
    "    \n",
    "        return beta\n",
    "\n",
    "    def create_zero():\n",
    "        if N_int == 1:\n",
    "            return 0.0\n",
    "        elif N_int == 2:\n",
    "            return np.zeros((2,2))\n",
    "    \n",
    "    def func_H(ind1,ind2):\n",
    "        if ind1 == ind2:\n",
    "            return create_alpha(ind1)\n",
    "        elif tuple(abs(x) for x in tuple(i-j for i,j in zip(ind1,ind2))) \\\n",
    "        in [(0,0,1),(0,1,0),(1,0,0)]:\n",
    "            return create_beta(ind1,ind2)\n",
    "        else:\n",
    "            return create_zero()\n",
    "\n",
    "    # list of space indices of the Hamiltonian    \n",
    "    indices = list(itertools.product(range(N_lat),range(N_lat),range(N_z)))\n",
    "    H = [func_H(ind1,ind2) for ind1,ind2 in itertools.product(indices, indices)]\n",
    "\n",
    "    N = N_lat*N_lat*N_z\n",
    "\n",
    "    H_ar = np.array(H,dtype=np.complex64).reshape((N,N,N_int,N_int))\n",
    "    H_mat = np.array([H_ar[x,:,y,:].flatten() for x in range(H_ar.shape[0]) for y in range(H_ar.shape[2])])\\\n",
    "    .flatten().reshape(N_int*N,N_int*N)\n",
    "\n",
    "    return H_mat"
   ]
  },
  {
   "cell_type": "markdown",
   "metadata": {},
   "source": [
    "We now test the function to $\\text{create_Hamiltonian}$."
   ]
  },
  {
   "cell_type": "code",
   "execution_count": 13,
   "metadata": {},
   "outputs": [
    {
     "name": "stdout",
     "output_type": "stream",
     "text": [
      "[[ 2.00+0.j  0.01+0.j -1.00+0.j  0.00+0.j  0.00+0.j  0.00+0.j]\n",
      " [ 0.01+0.j -2.00+0.j  0.00+0.j  1.00+0.j  0.00+0.j  0.00+0.j]\n",
      " [-1.00+0.j  0.00+0.j  2.00+0.j  0.01+0.j -1.00+0.j  0.00+0.j]\n",
      " [ 0.00+0.j  1.00+0.j  0.01+0.j -2.00+0.j  0.00+0.j  1.00+0.j]\n",
      " [ 0.00+0.j  0.00+0.j -1.00+0.j  0.00+0.j  2.00+0.j  0.01+0.j]\n",
      " [ 0.00+0.j  0.00+0.j  0.00+0.j  1.00+0.j  0.01+0.j -2.00+0.j]]\n"
     ]
    }
   ],
   "source": [
    "dimensions = {'N_z' : 3,'N_lat' : 1,\"N_int\" : 2}\n",
    "physical_parameters = {'t' : 1.0,'Delta' : 1e-2,'mu' : 0.0}\n",
    "\n",
    "H_mat = create_Hamiltonian(dimensions,physical_parameters)\n",
    "print(H_mat)"
   ]
  },
  {
   "cell_type": "markdown",
   "metadata": {},
   "source": [
    "In order to calculate the current from device Hamiltoninan, the leads at the two ends have to be taken into account. The surface Green's function of the semi-infinite leads is calculated in an iterative fashion, taking into account the infinite nature of the lead Hamiltonian.\n",
    "\n",
    "In mathematical terms, the surface Green's function $g_s$,\n",
    "$$g_s = ((E + 1i \\eta) - \\alpha - \n",
    "\\beta g_s \\beta^{\\dagger})^{-1}$$\n",
    "\n",
    "The leads are kept at chemical potentials $\\mu_1$ and $\\mu_2$. The device chemical potential $\\mu$ is assumed to be equal to the average of the lead potentials ($\\mu = \\frac{\\mu_1 + \\mu_2}{2}$). "
   ]
  },
  {
   "cell_type": "code",
   "execution_count": 156,
   "metadata": {
    "collapsed": true
   },
   "outputs": [],
   "source": [
    "def current_E(E,dimensions, physics):\n",
    "    # dimensions\n",
    "    N_lat = dimensions['N_lat']\n",
    "    N_z =  dimensions['N_z']\n",
    "    N_int = dimensions['N_int']\n",
    "  \n",
    "    # create the local variables\n",
    "    eta = physics['eta']\n",
    "    kT = physics['kT']\n",
    "    mu_1 = physics['mu_1']\n",
    "    mu_2 = physics['mu_2']\n",
    "    mu = 0.5*(mu_1 + mu_2)\n",
    "    \n",
    "    # create the physical paramters dictionaries to create the respective Hamiltonians for S1-N-S2\n",
    "    physical_parameters_N = {'t' : physics['t'],'Delta' : 0.0,'mu' : mu}\n",
    "    physical_parameters_S_1 = {'t' : physics['t'],'Delta' : physics['Delta_1'],'mu' : mu} \n",
    "    physical_parameters_S_2 = {'t' : physics['t'],'Delta' : physics['Delta_2'],'mu' : mu}\n",
    "    \n",
    "    \n",
    "    def surface_g(E,physical_parameters):\n",
    "        # create a dummy Hamiltonian with two layers to get the hopping element beta and the layer element alpha\n",
    "        \n",
    "        dummy_dimensions = dimensions.copy()\n",
    "        dummy_dimensions['N_z'] = 2\n",
    "        \n",
    "        H_mat = create_Hamiltonian(dummy_dimensions,physical_parameters)\n",
    "\n",
    "        N_dof_lat = N_lat*N_lat*N_int\n",
    "\n",
    "        alpha = H_mat[:N_dof_lat,:N_dof_lat]\n",
    "        beta = H_mat[:N_dof_lat,N_dof_lat:2*N_dof_lat]\n",
    "\n",
    "        err = 1.0\n",
    "        iter_count = 0\n",
    "        iter_limit = 100000\n",
    "        err_limit = 1e-3\n",
    "\n",
    "        g = np.linalg.inv((E + 1j*eta)*np.eye(alpha.shape[0]) - alpha)\n",
    "        g_old = np.linalg.inv((E + 1j*eta)*np.eye(alpha.shape[0]) - alpha)\n",
    "        # iterate over iter_limit iterations or until err < err_limit\n",
    "        for i in range(iter_limit):\n",
    "            g = np.linalg.inv((E + 1j*eta)*np.eye(alpha.shape[0]) - alpha - np.dot(np.dot(beta,g),beta))\n",
    "            g = 0.5*(g + g_old)\n",
    "\n",
    "            err = np.linalg.norm(g-g_old)/np.sqrt(np.linalg.norm(g)*np.linalg.norm(g_old))\n",
    "            g_old = g\n",
    "            if(err < err_limit):\n",
    "                #print(\"Finished at\",i,\"Error :\",err)\n",
    "                break;\n",
    "            if(i == (iter_limit - 1)):\n",
    "                print(\"iter_limit hit in calculation of surface_g\",err)\n",
    "        return g\n",
    "    \n",
    "    g_1 = surface_g(E,physical_parameters_S_1)\n",
    "    g_2 = surface_g(E,physical_parameters_S_2)\n",
    "    \n",
    "    H_mat = create_Hamiltonian(dimensions,physical_parameters_N)\n",
    "    \n",
    "    #number of dof in a layer\n",
    "    N_dof_lat = N_lat*N_lat*N_int\n",
    "    # the hopping element between layers\n",
    "    beta_layer = H_mat[:N_dof_lat,N_dof_lat:2*N_dof_lat]\n",
    "    \n",
    "    # the only non-zero elements in sigma\n",
    "    sigma_mini_1 = np.dot(np.dot(beta_layer,g_1),beta_layer)\n",
    "    sigma_mini_2 = np.dot(np.dot(beta_layer,g_2),beta_layer)\n",
    "    \n",
    "    sigma_1 = np.zeros(H_mat.shape,dtype=np.complex64)\n",
    "    sigma_1[:N_dof_lat,:N_dof_lat] = sigma_mini_1\n",
    "    gamma_1 = 1j*(sigma_1 - np.conj(sigma_1).T)\n",
    "    \n",
    "    sigma_2 = np.zeros(H_mat.shape,dtype=np.complex64)\n",
    "    sigma_2[-N_dof_lat:,-N_dof_lat:] = sigma_mini_2\n",
    "    gamma_2 = 1j*(sigma_2 - np.conj(sigma_2).T)    \n",
    "    \n",
    "    def fermi(E,kT):\n",
    "        return scipy.special.expit(-E/kT)\n",
    "    \n",
    "    def generate_fermi_matrix(E,mu,kT,N_int):\n",
    "        if N_int == 1:\n",
    "            return fermi(E-mu,kT)\n",
    "        elif N_int == 2:\n",
    "            return np.array([[fermi(E - mu,kT),0],[0,fermi(E + mu,kT)]])\n",
    "        \n",
    "    F1 = np.kron(np.eye(N_lat*N_lat*N_z),generate_fermi_matrix(E,mu_1-mu,kT,N_int))\n",
    "    F2 = np.kron(np.eye(N_lat*N_lat*N_z),generate_fermi_matrix(E,mu_2-mu,kT,N_int))\n",
    "    \n",
    "    sigma_in = np.dot(gamma_1,F1) + np.dot(gamma_2,F2)\n",
    "\n",
    "    G = np.linalg.inv((E + 1j*eta)*np.eye(H_mat.shape[0]) - H_mat - sigma_1 - sigma_2)\n",
    "    \n",
    "    A = 1j*(G - np.conj(G).T)\n",
    "    \n",
    "    G_n = np.dot(np.dot(G,sigma_in),np.conj(G).T)\n",
    "    \n",
    "    I_mat = 1j*(np.dot(G_n[:N_dof_lat,N_dof_lat:2*N_dof_lat],beta_layer) \\\n",
    "            - np.dot(G_n[N_dof_lat:2*N_dof_lat,:N_dof_lat],beta_layer))\n",
    "    # current = electron current - hole current\n",
    "    I = 2*I_mat[0,0] \n",
    "    return I"
   ]
  },
  {
   "cell_type": "code",
   "execution_count": 158,
   "metadata": {},
   "outputs": [
    {
     "name": "stderr",
     "output_type": "stream",
     "text": [
      "/usr/local/lib/python3.5/site-packages/numpy/core/numeric.py:531: ComplexWarning: Casting complex values to real discards the imaginary part\n",
      "  return array(a, dtype, copy=False, order=order)\n"
     ]
    },
    {
     "data": {
      "image/png": "[encoded data removed]",
      "text/plain": [
       "<matplotlib.figure.Figure at 0x1136b5438>"
      ]
     },
     "metadata": {},
     "output_type": "display_data"
    }
   ],
   "source": [
    "dV = 1e-2\n",
    "dimensions = {'N_lat' : 1,\n",
    "              'N_z'   : 2,\n",
    "              'N_int' : 2\n",
    "}\n",
    "\n",
    "physics = {'eta'     : 1e-8,\n",
    "           't'       : 1,\n",
    "           'mu_1'    : 2 + dV,\n",
    "           'mu_2'    : 2,\n",
    "           'Delta_1' : 0e-2,            \n",
    "           'Delta_2' : 1e-2,            \n",
    "           'kT'      : 1e-6\n",
    "}\n",
    "\n",
    "E_linspace = np.linspace(-3e-2,3e-2,100)\n",
    "I_E = [current_E(E,dimensions,physics) for E in E_linspace]\n",
    "plt.plot(E_linspace,I_E);"
   ]
  },
  {
   "cell_type": "code",
   "execution_count": null,
   "metadata": {},
   "outputs": [
    {
     "name": "stderr",
     "output_type": "stream",
     "text": [
      "/usr/local/lib/python3.5/site-packages/scipy/integrate/quadpack.py:388: ComplexWarning: Casting complex values to real discards the imaginary part\n",
      "  return _quadpack._qagse(func,a,b,args,full_output,epsabs,epsrel,limit)\n",
      "/usr/local/lib/python3.5/site-packages/scipy/integrate/quadpack.py:364: IntegrationWarning: The maximum number of subdivisions (50) has been achieved.\n",
      "  If increasing the limit yields no improvement it is advised to analyze \n",
      "  the integrand in order to determine the difficulties.  If the position of a \n",
      "  local difficulty can be determined (singularity, discontinuity) one will \n",
      "  probably gain from splitting up the interval and calling the integrator \n",
      "  on the subranges.  Perhaps a special-purpose integrator should be used.\n",
      "  warnings.warn(msg, IntegrationWarning)\n"
     ]
    }
   ],
   "source": [
    "# Actual numerical simulation\n",
    "import scipy.integrate\n",
    "def I_V(dV):\n",
    "    dimensions = {'N_lat' : 1,\n",
    "                  'N_z'   : 2,\n",
    "                  'N_int' : 2\n",
    "    }\n",
    "\n",
    "    physics = {'eta'     : 1e-8,\n",
    "               't'       : 1,\n",
    "               'mu_1'    : 2,\n",
    "               'mu_2'    : 2 + dV,\n",
    "               'Delta_1' : 0,            \n",
    "               'Delta_2' : 0.5e-2,            \n",
    "               'kT'      : 1e-6\n",
    "    }\n",
    "\n",
    "\n",
    "    \n",
    "    #I = np.sum(np.array(I_E))\n",
    "    \n",
    "    import scipy.integrate\n",
    "    t = physics['t']\n",
    "    I = scipy.integrate.quad(lambda x: current_E(x,dimensions,physics),-1.5*abs(dV),1.5*abs(dV))\n",
    "    return I\n",
    "\n",
    "N_v = 25\n",
    "dV = np.linspace(0,3e-2,N_v)\n",
    "import time\n",
    "st = time.time()\n",
    "I_vec = np.array([I_V(x)[0] for x in dV])\n",
    "print(time.time()-st)\n",
    "plt.plot(dV,I_vec)"
   ]
  },
  {
   "cell_type": "code",
   "execution_count": 161,
   "metadata": {},
   "outputs": [
    {
     "data": {
      "text/plain": [
       "[<matplotlib.lines.Line2D at 0x1138c6a58>]"
      ]
     },
     "execution_count": 161,
     "metadata": {},
     "output_type": "execute_result"
    },
    {
     "data": {
      "image/png": "[encoded data removed]",
      "text/plain": [
       "<matplotlib.figure.Figure at 0x1138ab0f0>"
      ]
     },
     "metadata": {},
     "output_type": "display_data"
    }
   ],
   "source": [
    "plt.plot(-np.gradient(I_vec))"
   ]
  },
  {
   "cell_type": "code",
   "execution_count": null,
   "metadata": {
    "collapsed": true
   },
   "outputs": [],
   "source": []
  }
 ],
 "metadata": {
  "kernelspec": {
   "display_name": "Python 3",
   "language": "python",
   "name": "python3"
  },
  "language_info": {
   "codemirror_mode": {
    "name": "ipython",
    "version": 3
   },
   "file_extension": ".py",
   "mimetype": "text/x-python",
   "name": "python",
   "nbconvert_exporter": "python",
   "pygments_lexer": "ipython3",
   "version": "3.5.2"
  }
 },
 "nbformat": 4,
 "nbformat_minor": 2
}
