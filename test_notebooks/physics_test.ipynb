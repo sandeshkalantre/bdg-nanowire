{
 "cells": [
  {
   "cell_type": "code",
   "execution_count": null,
   "metadata": {},
   "outputs": [],
   "source": [
    "import sys\n",
    "sys.path.append(\"/Users/sandesh/repos/bdg-nanowire/nanowire_model/\")\n",
    "import imp\n",
    "\n",
    "import physics\n",
    "imp.reload(physics)"
   ]
  },
  {
   "cell_type": "code",
   "execution_count": null,
   "metadata": {
    "collapsed": true
   },
   "outputs": [],
   "source": [
    "my_physics = {}\n",
    "my_physics['t0'] = 2\n",
    "my_physics['N_D'] = 10"
   ]
  },
  {
   "cell_type": "code",
   "execution_count": null,
   "metadata": {},
   "outputs": [],
   "source": [
    "np.array([phy.H[x,:,y,:].flatten() for x in range(phy.H.shape[0]) for y in range(phy.H.shape[2])]).flatten().reshape(20,20)"
   ]
  },
  {
   "cell_type": "code",
   "execution_count": 21,
   "metadata": {},
   "outputs": [
    {
     "name": "stderr",
     "output_type": "stream",
     "text": [
      "/usr/local/lib/python3.5/site-packages/numpy/core/numeric.py:531: ComplexWarning: Casting complex values to real discards the imaginary part\n",
      "  return array(a, dtype, copy=False, order=order)\n"
     ]
    },
    {
     "data": {
      "text/plain": [
       "[<matplotlib.lines.Line2D at 0x108f6f390>]"
      ]
     },
     "execution_count": 21,
     "metadata": {},
     "output_type": "execute_result"
    },
    {
     "data": {
      "image/png": "[encoded data removed]",
      "text/plain": [
       "<matplotlib.figure.Figure at 0x108cda470>"
      ]
     },
     "metadata": {},
     "output_type": "display_data"
    }
   ],
   "source": [
    "# Trying out the functional calculation of the Hamiltonian\n",
    "import numpy as np\n",
    "import itertools\n",
    "\n",
    "t = 1.0\n",
    "# 0+ to calculate Green's functions\n",
    "eta = 1e-8\n",
    "\n",
    "def create_Hamiltonian(N_lat,N_z):\n",
    "   \n",
    "    N = N_lat*N_lat*N_z\n",
    "\n",
    "\n",
    "    # Hamiltonian element functions\n",
    "    def create_alpha(ind):\n",
    "        alpha = np.array([[2*t,0],[0,-2*t]])\n",
    "        return alpha\n",
    "\n",
    "    def create_beta(ind1,ind2):\n",
    "        beta = np.array([[t,0],[0,-t]])\n",
    "        return beta\n",
    "\n",
    "    def create_zero():\n",
    "        return np.zeros((2,2))\n",
    "\n",
    "    def func_H(ind1,ind2):\n",
    "        if ind1 == ind2:\n",
    "            return create_alpha(ind1)\n",
    "        elif tuple(abs(x) for x in tuple(i-j for i,j in zip(ind1,ind2))) \\\n",
    "        in [(0,0,1),(0,1,0),(1,0,0)]:\n",
    "            return create_beta(ind1,ind2)\n",
    "        else:\n",
    "            return create_zero()\n",
    "\n",
    "    # list of space indices of the Hamiltonian    \n",
    "    indices = list(itertools.product(range(N_lat),range(N_lat),range(N_z)))\n",
    "    H = [func_H(ind1,ind2) for ind1,ind2 in itertools.product(indices, indices)]\n",
    "\n",
    "    H_ar = np.array(H,dtype=np.complex64).reshape((N,N,2,2))\n",
    "    H_mat = np.array([H_ar[x,:,y,:].flatten() for x in range(H_ar.shape[0]) for y in range(H_ar.shape[2])]).flatten().reshape(2*N,2*N)\n",
    "\n",
    "    return H_mat\n",
    "\n",
    "def surface_g(E,N_lat):\n",
    "    H_mat = create_Hamiltonian(N_lat,2)\n",
    "    N = N_lat*N_lat\n",
    "    alpha = H_mat[:2*N,:2*N]\n",
    "    beta = H_mat[:2*N:,2*N:]\n",
    "    \n",
    "    err = 1.0\n",
    "    iter_count = 0\n",
    "    iter_limit = 10000\n",
    "    err_limit = 1e-4\n",
    "\n",
    "    g = np.eye(alpha.shape[0],dtype=np.complex64)\n",
    "    g_old = np.eye(alpha.shape[0],dtype=np.complex64)\n",
    "    # iterate over iter_limit iterations or until err < err_limit\n",
    "    for i in range(iter_limit):\n",
    "        g = np.linalg.inv((E + 1j*eta)*np.eye(alpha.shape[0]) - alpha - np.dot(np.dot(beta,g),beta))\n",
    "        g = 0.5*(g + g_old)\n",
    "        \n",
    "        err = np.linalg.norm(g-g_old)/np.sqrt(np.linalg.norm(g)*np.linalg.norm(g_old))\n",
    "        g_old = g\n",
    "        if(err < err_limit):\n",
    "            #print(\"Finished at\",i)\n",
    "            break;\n",
    "        if(i == (iter_limit - 1)):\n",
    "            print(\"iter_limit hit in calculation of surface_g\")\n",
    "    return g\n",
    "\n",
    "def fermi(E,kT):\n",
    "    return 1.0/(1.0 + np.exp(E/kT))\n",
    "\n",
    "def current_E(E,N_lat,N):\n",
    "    H_mat = create_Hamiltonian(N_lat, N)\n",
    "    \n",
    "    #print(\"H_mat\",H_mat)\n",
    "    #number of dof in a layer\n",
    "    N_dof_lat = N_lat*N_lat*2\n",
    "    # the hopping element between layers\n",
    "    beta_layer = H_mat[:N_dof_lat,N_dof_lat:2*N_dof_lat]\n",
    "    \n",
    "    g = surface_g(E,N_lat)\n",
    "    # the only non-zero elements in sigma\n",
    "    sigma_mini = np.dot(np.dot(beta_layer,g),beta_layer)\n",
    "    \n",
    "    sigma_1 = np.zeros(H_mat.shape,dtype=np.complex64)\n",
    "    sigma_1[:N_dof_lat,:N_dof_lat] = sigma_mini\n",
    "    gamma_1 = 1j*(sigma_1 - np.conj(sigma_1).T)\n",
    "    \n",
    "    sigma_2 = np.zeros(H_mat.shape,dtype=np.complex64)\n",
    "    sigma_2[-N_dof_lat:,-N_dof_lat:] = sigma_mini\n",
    "    gamma_2 = 1j*(sigma_2 - np.conj(sigma_2).T)    \n",
    "    \n",
    "    #print(\"sigma_1\",sigma_1)\n",
    "    #print(\"sigma_2\",sigma_2)\n",
    "    \n",
    "    F1 = np.kron(np.eye(N_lat*N_lat*N_z),[[fermi(E - mu1,kT),0],[0,fermi(E + mu1,kT)]])\n",
    "    F2 = np.kron(np.eye(N_lat*N_lat*N_z),[[fermi(E - mu2,kT),0],[0,fermi(E + mu2,kT)]])\n",
    "    \n",
    "    sigma_in = np.dot(gamma_1,F1) + np.dot(gamma_2,F2)\n",
    "    #print(\"sigma_in\",sigma_in)\n",
    "\n",
    "    G = np.linalg.inv((E + 1j*eta)*np.eye(H_mat.shape[0]) - H_mat - sigma_1 - sigma_2)\n",
    "    \n",
    "    A = 1j*(G - np.conj(G).T)\n",
    "    \n",
    "    G_n = np.dot(np.dot(G,sigma_in),np.conj(G).T)\n",
    "    \n",
    "    I_mat = np.dot(beta_layer,G_n[:N_dof_lat,N_dof_lat:2*N_dof_lat]) \\\n",
    "            - np.dot(G_n[N_dof_lat:2*N_dof_lat,:N_dof_lat],beta_layer)\n",
    "    I = np.trace(I_mat[0:N_dof_lat,0:N_dof_lat])\n",
    "\n",
    "    return I\n",
    "\n",
    "mu1 = 2\n",
    "mu2 = 3\n",
    "N_lat = 1\n",
    "kT = 1e-2\n",
    "\n",
    "N_z = 3\n",
    "\n",
    "E_linspace = np.linspace(-4,4,100)\n",
    "I = [current_E(E,N_lat,N_z) for E in E_linspace]\n",
    "\n",
    "import matplotlib.pyplot as plt\n",
    "%matplotlib inline\n",
    "\n",
    "plt.plot(E_linspace,I)"
   ]
  },
  {
   "cell_type": "code",
   "execution_count": null,
   "metadata": {},
   "outputs": [],
   "source": [
    "%timeit surface_g(np.random.rand(1)[0],10)"
   ]
  },
  {
   "cell_type": "code",
   "execution_count": null,
   "metadata": {},
   "outputs": [],
   "source": [
    "np.random.rand(1)[0]"
   ]
  },
  {
   "cell_type": "code",
   "execution_count": null,
   "metadata": {},
   "outputs": [],
   "source": [
    "import matplotlib.pyplot as plt\n",
    "%matplotlib inline\n",
    "\n",
    "u,v = np.linalg.eig(H_mat)\n",
    "kx = np.linspace(-np.pi,np.pi,2*N)\n",
    "kxx,kyy = np.meshgrid(kx,kx)\n",
    "E_exp = 2*t*(1 - np.cos(kxx) - np.cos(kyy))\n",
    "E_exp = np.sort(E_exp.flatten())\n",
    "\n",
    "plt.plot(kx,np.sort(u))\n"
   ]
  },
  {
   "cell_type": "code",
   "execution_count": null,
   "metadata": {
    "collapsed": true
   },
   "outputs": [],
   "source": [
    "E_exp = 2*t*(1 - np.cos(kx) - np.cos(kx[:,np.newaxis]))"
   ]
  },
  {
   "cell_type": "code",
   "execution_count": null,
   "metadata": {},
   "outputs": [],
   "source": [
    "print(\"finished at %d th\".(20))"
   ]
  },
  {
   "cell_type": "code",
   "execution_count": null,
   "metadata": {},
   "outputs": [],
   "source": [
    "np.conj(H_mat).T"
   ]
  },
  {
   "cell_type": "code",
   "execution_count": null,
   "metadata": {},
   "outputs": [],
   "source": [
    "a = np.array([[1,2+1j],[3,4]])\n",
    "print(np.conj(a).T)"
   ]
  },
  {
   "cell_type": "code",
   "execution_count": null,
   "metadata": {},
   "outputs": [],
   "source": [
    "np.kron(np.eye(3),[[1,1],[1,1]])"
   ]
  },
  {
   "cell_type": "code",
   "execution_count": null,
   "metadata": {
    "collapsed": true
   },
   "outputs": [],
   "source": []
  }
 ],
 "metadata": {
  "kernelspec": {
   "display_name": "Python 3",
   "language": "python",
   "name": "python3"
  },
  "language_info": {
   "codemirror_mode": {
    "name": "ipython",
    "version": 3
   },
   "file_extension": ".py",
   "mimetype": "text/x-python",
   "name": "python",
   "nbconvert_exporter": "python",
   "pygments_lexer": "ipython3",
   "version": "3.5.2"
  }
 },
 "nbformat": 4,
 "nbformat_minor": 2
}
