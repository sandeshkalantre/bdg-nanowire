{
 "cells": [
  {
   "cell_type": "markdown",
   "metadata": {},
   "source": [
    "# Cylindrical Nanowire\n",
    "\n",
    "We study transport properties through a cylindrical nanowire to reproduce orbital Josephson interference. An axial magnetic field is applied along the length of the nanowire. As a result, a vector potential $\\vec{A} = A \\hat{\\phi}$ is present.\n",
    "\n",
    "The Hamiltonian in indexed by two co-ordinates $\\phi$ and $z$. $\\phi$ denotes the azimuthal co-ordinate and $z$ the longitudinal co-ordinate of the nanowire. Each point in device is then indexed by a tuple $(\\phi,z)$. \n",
    "\n",
    "We will use a tight-binding approach to write the device Hamiltonain. As a result, the two-coordinates $\\phi$ and $z$ will be discretised into $N_{\\phi}$ and $N_{z}$ points respectively. The Hamiltonian then can be expressed as:\n",
    "\n",
    "$$ H(n_\\phi,n_z;n_\\phi',n_z') = \n",
    "\\begin{cases}\n",
    "\\alpha && n_\\phi = n_\\phi' \\ \\text{and} \\ n_z = n_z' \\\\\n",
    "\\beta_t^{(\\dagger)} && n_\\phi - n_\\phi' \\equiv \\pm 1 \\ mod(N_\\phi)  \\\\\n",
    "\\beta_l && n_z - n_z' = \\pm 1 \n",
    "\\end{cases}\n",
    "$$\n",
    "\n",
    "where $\\alpha$ is the onsite element, $\\beta_t$ is the transverse hopping parameter and $\\beta_l$ is the logitudinal hopping parameter. Note how the cyclindrical geomtery has been handled by introducing a hopping element between the first and last points in the $\\phi$ direction.\n",
    "\n",
    "For the case of a weak magnetic field resulting in negligible Zeeman splitting and in the absence of spin-orbit coupling, the explicit forms of the matrix elements are given from the BdG Hamiltonian as follows:\n",
    "\n",
    "\\begin{align*}\n",
    "\\alpha &= \\begin{pmatrix} 2t + 2t' l^2 && \\Delta \\\\ \\Delta* && -2t-2t' l^2\\end{pmatrix} \\\\\n",
    "\\beta_t &= \\begin{pmatrix} -t' l ^2 e^{i A} && 0 \\\\ 0 && t' l^2 e^{-i A} \\end{pmatrix} \\\\\n",
    "\\beta_l &= \\begin{pmatrix} -t && 0 \\\\ 0 && t \\end{pmatrix} \n",
    "\\end{align*}"
   ]
  },
  {
   "cell_type": "code",
   "execution_count": 3,
   "metadata": {
    "collapsed": true
   },
   "outputs": [],
   "source": [
    "import numpy as np\n",
    "import matplotlib.pyplot as plt\n",
    "%matplotlib inline\n",
    "import itertools\n",
    "import scipy.special\n",
    "import copy"
   ]
  },
  {
   "cell_type": "markdown",
   "metadata": {},
   "source": [
    "I have not introduced the magnetic field at this stage to keep the calculation simple."
   ]
  },
  {
   "cell_type": "code",
   "execution_count": 4,
   "metadata": {
    "collapsed": true
   },
   "outputs": [],
   "source": [
    "# functional creation of the Hamiltonian\n",
    "\n",
    "def calc_H(physics):\n",
    "    N_z = physics.N_z\n",
    "    N_phi = physics.N_phi\n",
    "    t_z = physics.t_z\n",
    "    t_phi = physics.t_phi\n",
    "    l = physics.l\n",
    "    Delta = physics.Delta\n",
    "    mu = physics.mu\n",
    "    \n",
    "    def calc_H_element(e1,e2):\n",
    "        (z1,phi1) = e1\n",
    "        (z2,phi2) = e2\n",
    "        # onsite element\n",
    "        if z1 == z2 and phi1 == phi2:\n",
    "            diag_ele = 2*t_z + 2*t_phi*l**2 - mu\n",
    "            return np.array([[diag_ele,Delta],[np.conj(Delta),-np.conj(diag_ele)]])\n",
    "        # z hopping\n",
    "        elif abs(z1-z2) == 1 and phi1 == phi2:\n",
    "            return np.array([[-t_z,0],[0,t_z]])\n",
    "        # phi hopping\n",
    "        elif (abs(phi1-phi2) == 1 or abs(phi1-phi2) == N_phi-1)and z1 == z2:\n",
    "            return np.array([[-t_phi*l**2,0],[0,np.conj(t_phi)*l**2]])\n",
    "        else:\n",
    "            return np.array([[0,0],[0,0]])\n",
    "        # the basis is given by (n_z,n_phi) where n_z = 0,..,N_z-1, n_phi = 0,...,N_phi-1\n",
    "    basis = list(itertools.product(range(N_z),range(N_phi)))\n",
    "    H = [calc_H_element(e1,e2) for e1 in basis for e2 in basis]\n",
    "    N = (N_phi*N_z)\n",
    "\n",
    "    H_ar = np.array(H,dtype=np.complex64).reshape((N,N,2,2))\n",
    "    H_mat = np.array([H_ar[x,:,y,:].flatten() for x in range(H_ar.shape[0]) for y in range(H_ar.shape[2])])\\\n",
    "    .flatten().reshape(2*N,2*N)\n",
    "\n",
    "    return H_mat\n",
    "    \n",
    "    \n",
    "    \n",
    "    "
   ]
  },
  {
   "cell_type": "markdown",
   "metadata": {},
   "source": [
    "Once the function creating the Hamiltonian has been defined, I follow the standard NEGF results to calculate current (I) as a function of E."
   ]
  },
  {
   "cell_type": "code",
   "execution_count": 18,
   "metadata": {
    "collapsed": true
   },
   "outputs": [],
   "source": [
    " def current_E(E,physics):\n",
    "    N_phi = physics.N_phi\n",
    "    N_z =  physics.N_z\n",
    "    \n",
    "    eta = physics.eta\n",
    "    kT = physics.kT\n",
    "    mu_1 = physics.mu_1\n",
    "    mu_2 = physics.mu_2\n",
    "    mu = 0.5*(mu_1 + mu_2)\n",
    "    Delta1 = physics.Delta1\n",
    "    Delta2 = physics.Delta2\n",
    "    \n",
    "    t_z = physics.t_z\n",
    "    t_phi = physics.t_phi\n",
    "    l = physics.l\n",
    "    \n",
    "    # create the physical paramters dictionaries to create the respective Hamiltonians for S1-N-S2\n",
    "    physical_parameters_N = Physics()\n",
    "    physical_parameters_N.N_z = N_z\n",
    "    physical_parameters_N.N_phi = N_phi\n",
    "    physical_parameters_N.Delta = 0.0\n",
    "    physical_parameters_N.t_z = t_z \n",
    "    physical_parameters_N.t_phi = t_phi \n",
    "    physical_parameters_N.l = l \n",
    "    physical_parameters_N.mu = mu\n",
    "    \n",
    "    \n",
    "    physical_parameters_S1 = Physics()\n",
    "    physical_parameters_S1.N_z = N_z\n",
    "    physical_parameters_S1.N_phi = N_phi\n",
    "    physical_parameters_S1.Delta = Delta1\n",
    "    physical_parameters_S1.t_z = t_z \n",
    "    physical_parameters_S1.t_phi = t_phi \n",
    "    physical_parameters_S1.l = l \n",
    "    physical_parameters_S1.mu = mu_1\n",
    "    \n",
    "    physical_parameters_S2 = Physics()\n",
    "    physical_parameters_S2.N_z = N_z\n",
    "    physical_parameters_S2.N_phi = N_phi\n",
    "    physical_parameters_S2.Delta = Delta2\n",
    "    physical_parameters_S2.t_z = t_z \n",
    "    physical_parameters_S2.t_phi = t_phi \n",
    "    physical_parameters_S2.l = l \n",
    "    physical_parameters_S2.mu = mu_2\n",
    "    \n",
    "    def surface_g(E,physical_parameters):\n",
    "        # create a dummy Hamiltonian with two layers to get the hopping element beta and the layer element alpha\n",
    "        \n",
    "        dummy_params = Physics()\n",
    "        dummy_params = physical_parameters\n",
    "        dummy_params.N_z = 2\n",
    "        \n",
    "        H_mat = calc_H(dummy_params)\n",
    "\n",
    "        N_dof_lat = N_phi*2\n",
    "\n",
    "        alpha = H_mat[:N_dof_lat,:N_dof_lat]\n",
    "        beta = H_mat[:N_dof_lat,N_dof_lat:2*N_dof_lat]\n",
    "\n",
    "        err = 1.0\n",
    "        iter_count = 0\n",
    "        iter_limit = 100000\n",
    "        err_limit = 1e-6\n",
    "\n",
    "        g = np.linalg.inv((E + 1j*eta)*np.eye(alpha.shape[0]) - alpha)\n",
    "        g_old = np.linalg.inv((E + 1j*eta)*np.eye(alpha.shape[0]) - alpha)\n",
    "        # iterate over iter_limit iterations or until err < err_limit\n",
    "        for i in range(iter_limit):\n",
    "            g = np.linalg.inv((E + 1j*eta)*np.eye(alpha.shape[0]) - alpha - np.dot(np.dot(np.conj(beta.T),g),beta))\n",
    "            g = 0.5*(g + g_old)\n",
    "\n",
    "            err = np.linalg.norm(g-g_old)/np.sqrt(np.linalg.norm(g)*np.linalg.norm(g_old))\n",
    "            g_old = g\n",
    "            if(err < err_limit):\n",
    "                #print(\"Finished at\",i,\"Error :\",err)\n",
    "                break;\n",
    "            if(i == (iter_limit - 1)):\n",
    "                print(\"iter_limit hit in calculation of surface_g\",err)\n",
    "        return g\n",
    "    \n",
    "    g_1 = surface_g(E,physical_parameters_S1)\n",
    "    g_2 = surface_g(E,physical_parameters_S2)\n",
    "    \n",
    "    H_mat = calc_H(physical_parameters_N)\n",
    "    \n",
    "    #number of dof in a layer\n",
    "    N_dof_lat = N_phi*2\n",
    "    # the hopping element between layers\n",
    "    beta_layer = H_mat[:N_dof_lat,N_dof_lat:2*N_dof_lat]\n",
    "    \n",
    "    # the only non-zero elements in sigma\n",
    "    sigma_mini_1 = np.dot(np.dot(np.conj(beta_layer.T),g_1),beta_layer)\n",
    "    sigma_mini_2 = np.dot(np.dot(np.conj(beta_layer.T),g_2),beta_layer)\n",
    "    \n",
    "    sigma_1 = np.zeros(H_mat.shape,dtype=np.complex64)\n",
    "    sigma_1[:N_dof_lat,:N_dof_lat] = sigma_mini_1\n",
    "    gamma_1 = 1j*(sigma_1 - np.conj(sigma_1).T)\n",
    "    \n",
    "    sigma_2 = np.zeros(H_mat.shape,dtype=np.complex64)\n",
    "    sigma_2[-N_dof_lat:,-N_dof_lat:] = sigma_mini_2\n",
    "    gamma_2 = 1j*(sigma_2 - np.conj(sigma_2).T)    \n",
    "    \n",
    "    def fermi(E,kT):\n",
    "        return scipy.special.expit(-E/kT)\n",
    "    \n",
    "    def generate_fermi_matrix(E,mu,kT):\n",
    "        return np.array([[fermi(E - mu,kT),0],[0,fermi(E + mu,kT)]])\n",
    "        \n",
    "    F1 = np.kron(np.eye(N_phi*N_z),generate_fermi_matrix(E,mu_1-mu,kT))\n",
    "    F2 = np.kron(np.eye(N_phi*N_z),generate_fermi_matrix(E,mu_2-mu,kT))\n",
    "    \n",
    "    sigma_in = np.dot(gamma_1,F1) + np.dot(gamma_2,F2)\n",
    "\n",
    "    G = np.linalg.inv((E + 1j*eta)*np.eye(H_mat.shape[0]) - H_mat - sigma_1 - sigma_2)\n",
    "    \n",
    "    A = 1j*(G - np.conj(G).T)\n",
    "    \n",
    "    G_n = np.dot(np.dot(G,sigma_in),np.conj(G).T)\n",
    "    \n",
    "    #I_mat = 1j*(np.dot(G_n[:N_dof_lat,N_dof_lat:2*N_dof_lat],beta_layer) \\\n",
    "    #        - np.dot(G_n[N_dof_lat:2*N_dof_lat,:N_dof_lat],beta_layer))\n",
    "    I_mat = 1j*(np.dot(H_mat,G_n) - np.dot(G_n,H_mat))\n",
    "    # current = electron current - hole current\n",
    "    I = np.real(I_mat[0,0]-I_mat[1,1])\n",
    "    return I\n",
    "\n",
    "class Physics:\n",
    "    def __init__(self):\n",
    "        return\n",
    "\n"
   ]
  },
  {
   "cell_type": "code",
   "execution_count": 64,
   "metadata": {},
   "outputs": [],
   "source": [
    "physics = Physics()\n",
    "\n",
    "phi = np.pi/4\n",
    "\n",
    "physics.N_z = 2\n",
    "physics.N_phi = 4\n",
    "physics.t_z = 0.5\n",
    "physics.t_phi = 0.5*np.exp(1e-3j)\n",
    "physics.l = 1\n",
    "physics.Delta1 = 1e-2\n",
    "physics.Delta2 = 1e-2*np.exp(1j*phi)\n",
    "physics.mu_1 = 2\n",
    "physics.mu_2 = 2\n",
    "physics.eta = 1e-6\n",
    "physics.kT = 1e-5"
   ]
  },
  {
   "cell_type": "code",
   "execution_count": 67,
   "metadata": {},
   "outputs": [
    {
     "data": {
      "text/plain": [
       "[<matplotlib.lines.Line2D at 0x1196d8048>]"
      ]
     },
     "execution_count": 67,
     "metadata": {},
     "output_type": "execute_result"
    },
    {
     "data": {
      "image/png": "[encoded data removed]",
      "text/plain": [
       "<matplotlib.figure.Figure at 0x1190389b0>"
      ]
     },
     "metadata": {},
     "output_type": "display_data"
    }
   ],
   "source": [
    "I = [current_E(E,physics) for E in np.linspace(-2*physics.Delta1,2*physics.Delta1,100)]\n",
    "plt.plot(I)"
   ]
  },
  {
   "cell_type": "code",
   "execution_count": 68,
   "metadata": {},
   "outputs": [
    {
     "name": "stderr",
     "output_type": "stream",
     "text": [
      "/usr/local/lib/python3.5/site-packages/scipy/integrate/quadpack.py:364: IntegrationWarning: The maximum number of subdivisions (50) has been achieved.\n",
      "  If increasing the limit yields no improvement it is advised to analyze \n",
      "  the integrand in order to determine the difficulties.  If the position of a \n",
      "  local difficulty can be determined (singularity, discontinuity) one will \n",
      "  probably gain from splitting up the interval and calling the integrator \n",
      "  on the subranges.  Perhaps a special-purpose integrator should be used.\n",
      "  warnings.warn(msg, IntegrationWarning)\n"
     ]
    },
    {
     "name": "stdout",
     "output_type": "stream",
     "text": [
      "10774.514533996582\n"
     ]
    },
    {
     "data": {
      "image/png": "[encoded data removed]",
      "text/plain": [
       "<matplotlib.figure.Figure at 0x117a2fd30>"
      ]
     },
     "metadata": {},
     "output_type": "display_data"
    }
   ],
   "source": [
    "import scipy.integrate\n",
    "def calc_I_phi(x,phi): \n",
    "    x.Delta2 = abs(x.Delta2)*np.exp(1j*phi)\n",
    "    return scipy.integrate.quad(lambda y : current_E(y,x),-2e-2,2e-2,epsrel=1e-4)\n",
    "import time\n",
    "st = time.time()\n",
    "I_phi = [calc_I_phi(physics,phi) for phi in np.linspace(0,2*np.pi,20)]\n",
    "plt.plot(np.linspace(0,2*np.pi,len(I_phi)),I_phi)\n",
    "plt.xlabel('Phase Diff.')\n",
    "plt.ylabel('Current')\n",
    "print(time.time()-st)"
   ]
  },
  {
   "cell_type": "code",
   "execution_count": 69,
   "metadata": {},
   "outputs": [
    {
     "data": {
      "text/plain": [
       "(-0.0026647381369003537+0.009638421585599433j)"
      ]
     },
     "execution_count": 69,
     "metadata": {},
     "output_type": "execute_result"
    }
   ],
   "source": [
    "physics.Delta2"
   ]
  },
  {
   "cell_type": "code",
   "execution_count": 71,
   "metadata": {},
   "outputs": [
    {
     "data": {
      "text/plain": [
       "(6.123233995736766e-19+0.01j)"
      ]
     },
     "execution_count": 71,
     "metadata": {},
     "output_type": "execute_result"
    }
   ],
   "source": [
    "1e-2*np.exp(1j*np.pi/2)"
   ]
  },
  {
   "cell_type": "code",
   "execution_count": null,
   "metadata": {
    "collapsed": true
   },
   "outputs": [],
   "source": []
  }
 ],
 "metadata": {
  "kernelspec": {
   "display_name": "Python 3",
   "language": "python",
   "name": "python3"
  },
  "language_info": {
   "codemirror_mode": {
    "name": "ipython",
    "version": 3
   },
   "file_extension": ".py",
   "mimetype": "text/x-python",
   "name": "python",
   "nbconvert_exporter": "python",
   "pygments_lexer": "ipython3",
   "version": "3.5.2"
  }
 },
 "nbformat": 4,
 "nbformat_minor": 2
}
