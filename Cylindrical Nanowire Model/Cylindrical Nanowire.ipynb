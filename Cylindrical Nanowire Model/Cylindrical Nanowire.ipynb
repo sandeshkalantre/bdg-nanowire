{
 "cells": [
  {
   "cell_type": "markdown",
   "metadata": {},
   "source": [
    "# Cylindrical Nanowire\n",
    "\n",
    "We study transport properties through a cylindrical nanowire to reproduce orbital Josephson interference. An axial magnetic field is applied along the length of the nanowire. As a result, a vector potential $\\vec{A} = A \\hat{\\phi}$ is present.\n",
    "\n",
    "The Hamiltonian in indexed by two co-ordinates $\\phi$ and $z$. $\\phi$ denotes the azimuthal co-ordinate and $z$ the longitudinal co-ordinate of the nanowire. Each point in device is then indexed by a tuple $(\\phi,z)$. \n",
    "\n",
    "We will use a tight-binding approach to write the device Hamiltonain. As a result, the two-coordinates $\\phi$ and $z$ will be discretised into $N_{\\phi}$ and $N_{z}$ points respectively. The Hamiltonian then can be expressed as:\n",
    "\n",
    "$$ H(n_\\phi,n_z;n_\\phi',n_z') = \n",
    "\\begin{cases}\n",
    "\\alpha && n_\\phi = n_\\phi' \\ \\text{and} \\ n_z = n_z' \\\\\n",
    "\\beta_t^{(\\dagger)} && n_\\phi - n_\\phi' \\equiv \\pm 1 \\ mod(N_\\phi)  \\\\\n",
    "\\beta_l && n_z - n_z' = \\pm 1 \n",
    "\\end{cases}\n",
    "$$\n",
    "\n",
    "where $\\alpha$ is the onsite element, $\\beta_t$ is the transverse hopping parameter and $\\beta_l$ is the logitudinal hopping parameter. Note how the cyclindrical geomtery has been handled by introducing a hopping element between the first and last points in the $\\phi$ direction.\n",
    "\n",
    "For the case of a weak magnetic field resulting in negligible Zeeman splitting and in the absence of spin-orbit coupling, the explicit forms of the matrix elements are given from the BdG Hamiltonian as follows:\n",
    "\n",
    "\\begin{align*}\n",
    "\\alpha &= \\begin{pmatrix} 2t + t'(2 + \\Phi^2) && \\Delta \\\\ \\Delta* && -2t- t'(2 + \\Phi^2) \\end{pmatrix} \\\\\n",
    "\\beta_t &= \\begin{pmatrix} -t' e^{i \\Phi} && 0 \\\\ 0 && t' e^{-i \\Phi} \\end{pmatrix} \\\\\n",
    "\\beta_l &= \\begin{pmatrix} -t && 0 \\\\ 0 && t \\end{pmatrix} \n",
    "\\end{align*}"
   ]
  },
  {
   "cell_type": "code",
   "execution_count": 217,
   "metadata": {
    "collapsed": true
   },
   "outputs": [],
   "source": [
    "import numpy as np\n",
    "import matplotlib.pyplot as plt\n",
    "%matplotlib inline\n",
    "import itertools\n",
    "import scipy.special\n",
    "import time\n",
    "import copy"
   ]
  },
  {
   "cell_type": "code",
   "execution_count": 225,
   "metadata": {
    "collapsed": true
   },
   "outputs": [],
   "source": [
    "def save_dict(result,suffix=\"\",data_path=\"/Users/sandesh/data/bdg-nanowire/\"):\n",
    "    t = time.localtime()\n",
    "    timestamp = time.strftime('%b-%d-%Y_%H%M-', t)\n",
    "    filename = data_path + timestamp + suffix\n",
    "    np.save(filename,result)\n",
    "    "
   ]
  },
  {
   "cell_type": "code",
   "execution_count": 3,
   "metadata": {
    "collapsed": true
   },
   "outputs": [],
   "source": [
    "# functional creation of the Hamiltonian\n",
    "\n",
    "def calc_H(physics):\n",
    "    N_z = physics.N_z\n",
    "    N_phi = physics.N_phi\n",
    "    t_z = physics.t_z\n",
    "    t_phi = physics.t_phi\n",
    "    Delta = physics.Delta\n",
    "    mu = physics.mu\n",
    "    flux = physics.flux\n",
    "    \n",
    "    def calc_H_element(e1,e2):\n",
    "        (z1,phi1) = e1\n",
    "        (z2,phi2) = e2\n",
    "        # onsite element\n",
    "        if z1 == z2 and phi1 == phi2:\n",
    "            diag_ele = 2*t_z + np.abs(t_phi)*(2 + (2*np.pi*flux/N_phi)**2) - mu\n",
    "            return np.array([[diag_ele,Delta],[np.conj(Delta),-np.conj(diag_ele)]])\n",
    "        # z hopping\n",
    "        elif abs(z1-z2) == 1 and phi1 == phi2:\n",
    "            return np.array([[-t_z,0],[0,t_z]])\n",
    "        # phi hopping\n",
    "        elif (phi1-phi2 == 1 or phi1-phi2 == N_phi-1)and z1 == z2:\n",
    "            return np.array([[-t_phi,0],[0,np.conj(t_phi)]])\n",
    "        elif (phi1-phi2 == -1 or phi1-phi2 == -N_phi+1)and z1 == z2:\n",
    "            return np.conj(np.array([[-t_phi,0],[0,np.conj(t_phi)]])).T\n",
    "        else:\n",
    "            return np.array([[0,0],[0,0]])\n",
    "        # the basis is given by (n_z,n_phi) where n_z = 0,..,N_z-1, n_phi = 0,...,N_phi-1\n",
    "    basis = list(itertools.product(range(N_z),range(N_phi)))\n",
    "    H = [calc_H_element(e1,e2) for e1 in basis for e2 in basis]\n",
    "    N = (N_phi*N_z)\n",
    "\n",
    "    H_ar = np.array(H,dtype=np.complex64).reshape((N,N,2,2))\n",
    "    H_mat = np.array([H_ar[x,:,y,:].flatten() for x in range(H_ar.shape[0]) for y in range(H_ar.shape[2])])\\\n",
    "    .flatten().reshape(2*N,2*N)\n",
    "\n",
    "    return H_mat\n",
    "    \n",
    "    \n",
    "    \n",
    "    "
   ]
  },
  {
   "cell_type": "markdown",
   "metadata": {},
   "source": [
    "## Energy-spectrum \n",
    "I will plot the density of states for a cylindrical shell Hamiltonian and show the angular momemtum sub-bands. "
   ]
  },
  {
   "cell_type": "code",
   "execution_count": 127,
   "metadata": {
    "collapsed": true
   },
   "outputs": [],
   "source": [
    "def calc_dos(E,physics):\n",
    "    H = calc_H(physics)\n",
    "    G = np.linalg.inv((E + 1j*physics.eta)*np.eye(H.shape[0]) - H)\n",
    "    A = 1j*(G - np.conj(G).T)\n",
    "    \n",
    "    # density of states\n",
    "    dos = np.trace(A)\n",
    "    return dos"
   ]
  },
  {
   "cell_type": "code",
   "execution_count": 170,
   "metadata": {},
   "outputs": [
    {
     "name": "stderr",
     "output_type": "stream",
     "text": [
      "/usr/local/lib/python3.5/site-packages/numpy/core/numeric.py:531: ComplexWarning: Casting complex values to real discards the imaginary part\n",
      "  return array(a, dtype, copy=False, order=order)\n"
     ]
    },
    {
     "data": {
      "image/png": "[encoded data removed]",
      "text/plain": [
       "<matplotlib.figure.Figure at 0x11aa6e6a0>"
      ]
     },
     "metadata": {},
     "output_type": "display_data"
    }
   ],
   "source": [
    "physics = Physics()\n",
    "\n",
    "physics.N_z = 2\n",
    "physics.N_phi = 6\n",
    "physics.flux = 0.0\n",
    "physics.t_z = 1\n",
    "physics.t_phi = 0.005*np.exp(1j*2*np.pi*physics.flux/physics.N_phi)\n",
    "physics.Delta = 1e-2\n",
    "physics.mu = 1\n",
    "physics.eta = 1e-8\n",
    "physics.kT = 1e-4\n",
    "\n",
    "E_vec = np.linspace(-0.1,0.1,1000)\n",
    "a_vec = np.array([calc_dos(E,physics) for E in E_vec])\n",
    "\n",
    "\n",
    "plt.plot(E_vec,a_vec,linewidth=2.0)\n",
    "plt.xlabel(r\"E\",fontsize=16)\n",
    "plt.ylabel(r\"Density of States\",fontsize=16)\n",
    "\n",
    "data_path = \"/Users/sandesh/repos/bdg-nanowire/plot_data/dos_sub_super\"\n",
    "plt.savefig(data_path + '.png',dpi=300,bbox_inches='tight')\n",
    "res = {'physics' : physics,'E_vec' : E_vec,'a_vec' : a_vec}\n",
    "np.save(data_path + '.npz',res)"
   ]
  },
  {
   "cell_type": "code",
   "execution_count": null,
   "metadata": {},
   "outputs": [],
   "source": []
  },
  {
   "cell_type": "markdown",
   "metadata": {},
   "source": [
    "Once the function creating the Hamiltonian has been defined, I follow the standard NEGF results to calculate current (I) as a function of E."
   ]
  },
  {
   "cell_type": "code",
   "execution_count": 203,
   "metadata": {
    "collapsed": true
   },
   "outputs": [],
   "source": [
    " def current_E(E,physics):\n",
    "    N_phi = physics.N_phi\n",
    "    N_z =  physics.N_z\n",
    "    flux = physics.flux\n",
    "    \n",
    "    eta = physics.eta\n",
    "    kT = physics.kT\n",
    "    mu_1 = physics.mu_1\n",
    "    mu_2 = physics.mu_2\n",
    "    mu = 0.5*(mu_1 + mu_2)\n",
    "    Delta1 = physics.Delta1\n",
    "    Delta2 = physics.Delta2\n",
    "    \n",
    "    t_z = physics.t_z\n",
    "    t_phi = physics.t_phi\n",
    "    \n",
    "    # create the physical paramters dictionaries to create the respective Hamiltonians for S1-N-S2\n",
    "    physical_parameters_N = Physics()\n",
    "    physical_parameters_N.N_z = N_z\n",
    "    physical_parameters_N.N_phi = N_phi\n",
    "    physical_parameters_N.Delta = 0.0\n",
    "    physical_parameters_N.t_z = t_z \n",
    "    physical_parameters_N.t_phi = t_phi \n",
    "    physical_parameters_N.mu = mu\n",
    "    physical_parameters_N.flux = flux \n",
    "    \n",
    "    \n",
    "    physical_parameters_S1 = Physics()\n",
    "    physical_parameters_S1.N_z = N_z\n",
    "    physical_parameters_S1.N_phi = N_phi\n",
    "    physical_parameters_S1.Delta = Delta1\n",
    "    physical_parameters_S1.t_z = t_z \n",
    "    physical_parameters_S1.t_phi = t_phi \n",
    "    physical_parameters_S1.mu = mu_1\n",
    "    physical_parameters_S1.flux = flux \n",
    "    \n",
    "    physical_parameters_S2 = Physics()\n",
    "    physical_parameters_S2.N_z = N_z\n",
    "    physical_parameters_S2.N_phi = N_phi\n",
    "    physical_parameters_S2.Delta = Delta2\n",
    "    physical_parameters_S2.t_z = t_z \n",
    "    physical_parameters_S2.t_phi = t_phi \n",
    "    physical_parameters_S2.mu = mu_2\n",
    "    physical_parameters_S2.flux = flux \n",
    "    \n",
    "    def surface_g(E,physical_parameters):\n",
    "        # create a dummy Hamiltonian with two layers to get the hopping element beta and the layer element alpha\n",
    "        \n",
    "        dummy_params = Physics()\n",
    "        dummy_params = physical_parameters\n",
    "        dummy_params.N_z = 2\n",
    "        \n",
    "        H_mat = calc_H(dummy_params)\n",
    "\n",
    "        N_dof_lat = N_phi*2\n",
    "\n",
    "        alpha = H_mat[:N_dof_lat,:N_dof_lat]\n",
    "        beta = H_mat[:N_dof_lat,N_dof_lat:2*N_dof_lat]\n",
    "\n",
    "        err = 1.0\n",
    "        iter_count = 0\n",
    "        iter_limit = 100000\n",
    "        err_limit = 1e-6\n",
    "\n",
    "        g = np.linalg.inv((E + 1j*eta)*np.eye(alpha.shape[0]) - alpha)\n",
    "        g_old = np.linalg.inv((E + 1j*eta)*np.eye(alpha.shape[0]) - alpha)\n",
    "        # iterate over iter_limit iterations or until err < err_limit\n",
    "        for i in range(iter_limit):\n",
    "            g = np.linalg.inv((E + 1j*eta)*np.eye(alpha.shape[0]) - alpha - np.dot(np.dot(np.conj(beta.T),g),beta))\n",
    "            g = 0.5*(g + g_old)\n",
    "\n",
    "            err = np.linalg.norm(g-g_old)/np.sqrt(np.linalg.norm(g)*np.linalg.norm(g_old))\n",
    "            g_old = g\n",
    "            if(err < err_limit):\n",
    "                #print(\"Finished at\",i,\"Error :\",err)\n",
    "                break;\n",
    "            if(i == (iter_limit - 1)):\n",
    "                print(\"iter_limit hit in calculation of surface_g\",err)\n",
    "        return g\n",
    "    \n",
    "    g_1 = surface_g(E,physical_parameters_S1)\n",
    "    g_2 = surface_g(E,physical_parameters_S2)\n",
    "    \n",
    "    H_mat = calc_H(physical_parameters_N)\n",
    "    \n",
    "    #number of dof in a layer\n",
    "    N_dof_lat = N_phi*2\n",
    "    # the hopping element between layers\n",
    "    beta_layer = H_mat[:N_dof_lat,N_dof_lat:2*N_dof_lat]\n",
    "    \n",
    "    # the only non-zero elements in sigma\n",
    "    sigma_mini_1 = np.dot(np.dot(np.conj(beta_layer.T),g_1),beta_layer)\n",
    "    sigma_mini_2 = np.dot(np.dot(np.conj(beta_layer.T),g_2),beta_layer)\n",
    "    \n",
    "    sigma_1 = np.zeros(H_mat.shape,dtype=np.complex64)\n",
    "    sigma_1[:N_dof_lat,:N_dof_lat] = sigma_mini_1\n",
    "    gamma_1 = 1j*(sigma_1 - np.conj(sigma_1).T)\n",
    "    \n",
    "    sigma_2 = np.zeros(H_mat.shape,dtype=np.complex64)\n",
    "    sigma_2[-N_dof_lat:,-N_dof_lat:] = sigma_mini_2\n",
    "    gamma_2 = 1j*(sigma_2 - np.conj(sigma_2).T)    \n",
    "    \n",
    "    def fermi(E,kT):\n",
    "        return scipy.special.expit(-E/kT)\n",
    "    \n",
    "    def generate_fermi_matrix(E,mu,kT):\n",
    "        return np.array([[fermi(E - mu,kT),0],[0,fermi(E + mu,kT)]])\n",
    "        \n",
    "    F1 = np.kron(np.eye(N_phi*N_z),generate_fermi_matrix(E,mu_1-mu,kT))\n",
    "    F2 = np.kron(np.eye(N_phi*N_z),generate_fermi_matrix(E,mu_2-mu,kT))\n",
    "    \n",
    "    sigma_in = np.dot(gamma_1,F1) + np.dot(gamma_2,F2)\n",
    "\n",
    "    G = np.linalg.inv((E + 1j*eta)*np.eye(H_mat.shape[0]) - H_mat - sigma_1 - sigma_2)\n",
    "    \n",
    "    A = 1j*(G - np.conj(G).T)\n",
    "    \n",
    "    G_n = np.dot(np.dot(G,sigma_in),np.conj(G).T)\n",
    "    \n",
    "    #I_mat = 1j*(np.dot(G_n[:N_dof_lat,N_dof_lat:2*N_dof_lat],beta_layer) \\\n",
    "    #        - np.dot(G_n[N_dof_lat:2*N_dof_lat,:N_dof_lat],beta_layer))\n",
    "    I_mat = 1j*(np.dot(H_mat,G_n) - np.dot(G_n,H_mat))\n",
    "    # current = electron current - hole current\n",
    "    I = np.real(np.trace(I_mat[0:2*N_phi:2,0:2*N_phi:2]-I_mat[1:2*N_phi:2,1:2*N_phi:2]))\n",
    "    return I\n",
    "\n",
    "class Physics:\n",
    "    def __init__(self):\n",
    "        return\n",
    "\n"
   ]
  },
  {
   "cell_type": "code",
   "execution_count": 309,
   "metadata": {
    "collapsed": true
   },
   "outputs": [],
   "source": [
    "physics = Physics()\n",
    "\n",
    "phi = np.pi/9\n",
    "\n",
    "physics.N_z = 2\n",
    "physics.N_phi = 10\n",
    "physics.flux = 2.0\n",
    "physics.t_z = 1\n",
    "physics.t_phi = 1*np.exp(1j*2*np.pi*physics.flux/physics.N_phi)\n",
    "physics.Delta1 = 1e-2\n",
    "physics.Delta2 = 1e-2*np.exp(1j*phi)\n",
    "physics.mu_1 = 2\n",
    "physics.mu_2 = 2\n",
    "physics.eta = 1e-4\n",
    "physics.kT = 1e-5"
   ]
  },
  {
   "cell_type": "code",
   "execution_count": 310,
   "metadata": {},
   "outputs": [
    {
     "data": {
      "text/plain": [
       "[<matplotlib.lines.Line2D at 0x11df6a3c8>]"
      ]
     },
     "execution_count": 310,
     "metadata": {},
     "output_type": "execute_result"
    },
    {
     "data": {
      "image/png": "[encoded data removed]",
      "text/plain": [
       "<matplotlib.figure.Figure at 0x11de85f98>"
      ]
     },
     "metadata": {},
     "output_type": "display_data"
    }
   ],
   "source": [
    "I = [current_E(E,physics) for E in np.linspace(0.-2*physics.Delta1,2*physics.Delta1,100)]\n",
    "#I = [current_E(E,physics) for E in np.linspace(-2,2,100)]\n",
    "plt.plot(np.linspace(-2*physics.Delta1,2*physics.Delta1,100),I)"
   ]
  },
  {
   "cell_type": "code",
   "execution_count": 311,
   "metadata": {},
   "outputs": [],
   "source": [
    "import scipy.integrate\n",
    "def calc_I_phi(x,phi): \n",
    "    x.Delta2 = abs(x.Delta2)*np.exp(1j*phi)\n",
    "    return scipy.integrate.quad(lambda y : current_E(y,x),-15e-3,-5e-3,epsrel=1e-2,points=[-1e-2])\n",
    "import time\n",
    "st = time.time()\n",
    "I_phi = [calc_I_phi(physics,phi) for phi in np.linspace(0,2*np.pi,50)]\n"
   ]
  },
  {
   "cell_type": "code",
   "execution_count": 312,
   "metadata": {},
   "outputs": [
    {
     "name": "stdout",
     "output_type": "stream",
     "text": [
      "92.70852589607239\n"
     ]
    },
    {
     "data": {
      "image/png": "[encoded data removed]",
      "text/plain": [
       "<matplotlib.figure.Figure at 0x11df742b0>"
      ]
     },
     "metadata": {},
     "output_type": "display_data"
    }
   ],
   "source": [
    "plt.plot(np.linspace(0,2*np.pi,len(I_phi)),I_phi)\n",
    "plt.xlabel('Phase Diff.')\n",
    "plt.ylabel('Current')\n",
    "print(time.time()-st)"
   ]
  },
  {
   "cell_type": "code",
   "execution_count": 308,
   "metadata": {},
   "outputs": [],
   "source": [
    "res = {'physics' : physics,'I_phi' : I_phi}\n",
    "save_dict(res,suffix=\"subband-E-1\")"
   ]
  },
  {
   "cell_type": "code",
   "execution_count": 11,
   "metadata": {},
   "outputs": [
    {
     "name": "stdout",
     "output_type": "stream",
     "text": [
      "0.0\n",
      "180.98830008506775\n",
      "0.555555555556\n",
      "638.1976590156555\n"
     ]
    },
    {
     "ename": "KeyboardInterrupt",
     "evalue": "",
     "output_type": "error",
     "traceback": [
      "\u001b[0;31m---------------------------------------------------------------------------\u001b[0m",
      "\u001b[0;31mKeyboardInterrupt\u001b[0m                         Traceback (most recent call last)",
      "\u001b[0;32m<ipython-input-11-cc3c2d74d618>\u001b[0m in \u001b[0;36m<module>\u001b[0;34m()\u001b[0m\n\u001b[1;32m     22\u001b[0m     \u001b[0;32mimport\u001b[0m \u001b[0mtime\u001b[0m\u001b[0;34m\u001b[0m\u001b[0m\n\u001b[1;32m     23\u001b[0m     \u001b[0mst\u001b[0m \u001b[0;34m=\u001b[0m \u001b[0mtime\u001b[0m\u001b[0;34m.\u001b[0m\u001b[0mtime\u001b[0m\u001b[0;34m(\u001b[0m\u001b[0;34m)\u001b[0m\u001b[0;34m\u001b[0m\u001b[0m\n\u001b[0;32m---> 24\u001b[0;31m     \u001b[0mI_phi\u001b[0m \u001b[0;34m=\u001b[0m \u001b[0;34m[\u001b[0m\u001b[0mcalc_I_phi\u001b[0m\u001b[0;34m(\u001b[0m\u001b[0mphysics\u001b[0m\u001b[0;34m,\u001b[0m\u001b[0mphi\u001b[0m\u001b[0;34m)\u001b[0m \u001b[0;32mfor\u001b[0m \u001b[0mphi\u001b[0m \u001b[0;32min\u001b[0m \u001b[0mnp\u001b[0m\u001b[0;34m.\u001b[0m\u001b[0mlinspace\u001b[0m\u001b[0;34m(\u001b[0m\u001b[0;36m0\u001b[0m\u001b[0;34m,\u001b[0m\u001b[0;36m2\u001b[0m\u001b[0;34m*\u001b[0m\u001b[0mnp\u001b[0m\u001b[0;34m.\u001b[0m\u001b[0mpi\u001b[0m\u001b[0;34m,\u001b[0m\u001b[0;36m25\u001b[0m\u001b[0;34m)\u001b[0m\u001b[0;34m]\u001b[0m\u001b[0;34m\u001b[0m\u001b[0m\n\u001b[0m\u001b[1;32m     25\u001b[0m     \u001b[0mprint\u001b[0m\u001b[0;34m(\u001b[0m\u001b[0mphysics\u001b[0m\u001b[0;34m.\u001b[0m\u001b[0mflux\u001b[0m\u001b[0;34m)\u001b[0m\u001b[0;34m\u001b[0m\u001b[0m\n\u001b[1;32m     26\u001b[0m     \u001b[0mplt\u001b[0m\u001b[0;34m.\u001b[0m\u001b[0mfigure\u001b[0m\u001b[0;34m(\u001b[0m\u001b[0mi\u001b[0m\u001b[0;34m+\u001b[0m\u001b[0;36m1\u001b[0m\u001b[0;34m)\u001b[0m\u001b[0;34m\u001b[0m\u001b[0m\n",
      "\u001b[0;32m<ipython-input-11-cc3c2d74d618>\u001b[0m in \u001b[0;36m<listcomp>\u001b[0;34m(.0)\u001b[0m\n\u001b[1;32m     22\u001b[0m     \u001b[0;32mimport\u001b[0m \u001b[0mtime\u001b[0m\u001b[0;34m\u001b[0m\u001b[0m\n\u001b[1;32m     23\u001b[0m     \u001b[0mst\u001b[0m \u001b[0;34m=\u001b[0m \u001b[0mtime\u001b[0m\u001b[0;34m.\u001b[0m\u001b[0mtime\u001b[0m\u001b[0;34m(\u001b[0m\u001b[0;34m)\u001b[0m\u001b[0;34m\u001b[0m\u001b[0m\n\u001b[0;32m---> 24\u001b[0;31m     \u001b[0mI_phi\u001b[0m \u001b[0;34m=\u001b[0m \u001b[0;34m[\u001b[0m\u001b[0mcalc_I_phi\u001b[0m\u001b[0;34m(\u001b[0m\u001b[0mphysics\u001b[0m\u001b[0;34m,\u001b[0m\u001b[0mphi\u001b[0m\u001b[0;34m)\u001b[0m \u001b[0;32mfor\u001b[0m \u001b[0mphi\u001b[0m \u001b[0;32min\u001b[0m \u001b[0mnp\u001b[0m\u001b[0;34m.\u001b[0m\u001b[0mlinspace\u001b[0m\u001b[0;34m(\u001b[0m\u001b[0;36m0\u001b[0m\u001b[0;34m,\u001b[0m\u001b[0;36m2\u001b[0m\u001b[0;34m*\u001b[0m\u001b[0mnp\u001b[0m\u001b[0;34m.\u001b[0m\u001b[0mpi\u001b[0m\u001b[0;34m,\u001b[0m\u001b[0;36m25\u001b[0m\u001b[0;34m)\u001b[0m\u001b[0;34m]\u001b[0m\u001b[0;34m\u001b[0m\u001b[0m\n\u001b[0m\u001b[1;32m     25\u001b[0m     \u001b[0mprint\u001b[0m\u001b[0;34m(\u001b[0m\u001b[0mphysics\u001b[0m\u001b[0;34m.\u001b[0m\u001b[0mflux\u001b[0m\u001b[0;34m)\u001b[0m\u001b[0;34m\u001b[0m\u001b[0m\n\u001b[1;32m     26\u001b[0m     \u001b[0mplt\u001b[0m\u001b[0;34m.\u001b[0m\u001b[0mfigure\u001b[0m\u001b[0;34m(\u001b[0m\u001b[0mi\u001b[0m\u001b[0;34m+\u001b[0m\u001b[0;36m1\u001b[0m\u001b[0;34m)\u001b[0m\u001b[0;34m\u001b[0m\u001b[0m\n",
      "\u001b[0;32m<ipython-input-11-cc3c2d74d618>\u001b[0m in \u001b[0;36mcalc_I_phi\u001b[0;34m(x, phi)\u001b[0m\n\u001b[1;32m     19\u001b[0m     \u001b[0;32mdef\u001b[0m \u001b[0mcalc_I_phi\u001b[0m\u001b[0;34m(\u001b[0m\u001b[0mx\u001b[0m\u001b[0;34m,\u001b[0m\u001b[0mphi\u001b[0m\u001b[0;34m)\u001b[0m\u001b[0;34m:\u001b[0m\u001b[0;34m\u001b[0m\u001b[0m\n\u001b[1;32m     20\u001b[0m         \u001b[0mx\u001b[0m\u001b[0;34m.\u001b[0m\u001b[0mDelta2\u001b[0m \u001b[0;34m=\u001b[0m \u001b[0mabs\u001b[0m\u001b[0;34m(\u001b[0m\u001b[0mx\u001b[0m\u001b[0;34m.\u001b[0m\u001b[0mDelta2\u001b[0m\u001b[0;34m)\u001b[0m\u001b[0;34m*\u001b[0m\u001b[0mnp\u001b[0m\u001b[0;34m.\u001b[0m\u001b[0mexp\u001b[0m\u001b[0;34m(\u001b[0m\u001b[0;36m1j\u001b[0m\u001b[0;34m*\u001b[0m\u001b[0mphi\u001b[0m\u001b[0;34m)\u001b[0m\u001b[0;34m\u001b[0m\u001b[0m\n\u001b[0;32m---> 21\u001b[0;31m         \u001b[0;32mreturn\u001b[0m \u001b[0mscipy\u001b[0m\u001b[0;34m.\u001b[0m\u001b[0mintegrate\u001b[0m\u001b[0;34m.\u001b[0m\u001b[0mquad\u001b[0m\u001b[0;34m(\u001b[0m\u001b[0;32mlambda\u001b[0m \u001b[0my\u001b[0m \u001b[0;34m:\u001b[0m \u001b[0mcurrent_E\u001b[0m\u001b[0;34m(\u001b[0m\u001b[0my\u001b[0m\u001b[0;34m,\u001b[0m\u001b[0mx\u001b[0m\u001b[0;34m)\u001b[0m\u001b[0;34m,\u001b[0m\u001b[0;34m-\u001b[0m\u001b[0;36m5e-3\u001b[0m\u001b[0;34m,\u001b[0m\u001b[0;36m5e-3\u001b[0m\u001b[0;34m,\u001b[0m\u001b[0mepsrel\u001b[0m\u001b[0;34m=\u001b[0m\u001b[0;36m1e-4\u001b[0m\u001b[0;34m,\u001b[0m\u001b[0mpoints\u001b[0m\u001b[0;34m=\u001b[0m\u001b[0;34m[\u001b[0m\u001b[0;36m0e-2\u001b[0m\u001b[0;34m]\u001b[0m\u001b[0;34m)\u001b[0m\u001b[0;34m\u001b[0m\u001b[0m\n\u001b[0m\u001b[1;32m     22\u001b[0m     \u001b[0;32mimport\u001b[0m \u001b[0mtime\u001b[0m\u001b[0;34m\u001b[0m\u001b[0m\n\u001b[1;32m     23\u001b[0m     \u001b[0mst\u001b[0m \u001b[0;34m=\u001b[0m \u001b[0mtime\u001b[0m\u001b[0;34m.\u001b[0m\u001b[0mtime\u001b[0m\u001b[0;34m(\u001b[0m\u001b[0;34m)\u001b[0m\u001b[0;34m\u001b[0m\u001b[0m\n",
      "\u001b[0;32m/usr/local/lib/python3.5/site-packages/scipy/integrate/quadpack.py\u001b[0m in \u001b[0;36mquad\u001b[0;34m(func, a, b, args, full_output, epsabs, epsrel, limit, points, weight, wvar, wopts, maxp1, limlst)\u001b[0m\n\u001b[1;32m    321\u001b[0m     \u001b[0;32mif\u001b[0m \u001b[0;34m(\u001b[0m\u001b[0mweight\u001b[0m \u001b[0;32mis\u001b[0m \u001b[0;32mNone\u001b[0m\u001b[0;34m)\u001b[0m\u001b[0;34m:\u001b[0m\u001b[0;34m\u001b[0m\u001b[0m\n\u001b[1;32m    322\u001b[0m         retval = _quad(func, a, b, args, full_output, epsabs, epsrel, limit,\n\u001b[0;32m--> 323\u001b[0;31m                        points)\n\u001b[0m\u001b[1;32m    324\u001b[0m     \u001b[0;32melse\u001b[0m\u001b[0;34m:\u001b[0m\u001b[0;34m\u001b[0m\u001b[0m\n\u001b[1;32m    325\u001b[0m         retval = _quad_weight(func, a, b, args, full_output, epsabs, epsrel,\n",
      "\u001b[0;32m/usr/local/lib/python3.5/site-packages/scipy/integrate/quadpack.py\u001b[0m in \u001b[0;36m_quad\u001b[0;34m(func, a, b, args, full_output, epsabs, epsrel, limit, points)\u001b[0m\n\u001b[1;32m    396\u001b[0m             \u001b[0mthe_points\u001b[0m \u001b[0;34m=\u001b[0m \u001b[0mnumpy\u001b[0m\u001b[0;34m.\u001b[0m\u001b[0mzeros\u001b[0m\u001b[0;34m(\u001b[0m\u001b[0;34m(\u001b[0m\u001b[0mnl\u001b[0m\u001b[0;34m+\u001b[0m\u001b[0;36m2\u001b[0m\u001b[0;34m,\u001b[0m\u001b[0;34m)\u001b[0m\u001b[0;34m,\u001b[0m \u001b[0mfloat\u001b[0m\u001b[0;34m)\u001b[0m\u001b[0;34m\u001b[0m\u001b[0m\n\u001b[1;32m    397\u001b[0m             \u001b[0mthe_points\u001b[0m\u001b[0;34m[\u001b[0m\u001b[0;34m:\u001b[0m\u001b[0mnl\u001b[0m\u001b[0;34m]\u001b[0m \u001b[0;34m=\u001b[0m \u001b[0mpoints\u001b[0m\u001b[0;34m\u001b[0m\u001b[0m\n\u001b[0;32m--> 398\u001b[0;31m             \u001b[0;32mreturn\u001b[0m \u001b[0m_quadpack\u001b[0m\u001b[0;34m.\u001b[0m\u001b[0m_qagpe\u001b[0m\u001b[0;34m(\u001b[0m\u001b[0mfunc\u001b[0m\u001b[0;34m,\u001b[0m\u001b[0ma\u001b[0m\u001b[0;34m,\u001b[0m\u001b[0mb\u001b[0m\u001b[0;34m,\u001b[0m\u001b[0mthe_points\u001b[0m\u001b[0;34m,\u001b[0m\u001b[0margs\u001b[0m\u001b[0;34m,\u001b[0m\u001b[0mfull_output\u001b[0m\u001b[0;34m,\u001b[0m\u001b[0mepsabs\u001b[0m\u001b[0;34m,\u001b[0m\u001b[0mepsrel\u001b[0m\u001b[0;34m,\u001b[0m\u001b[0mlimit\u001b[0m\u001b[0;34m)\u001b[0m\u001b[0;34m\u001b[0m\u001b[0m\n\u001b[0m\u001b[1;32m    399\u001b[0m \u001b[0;34m\u001b[0m\u001b[0m\n\u001b[1;32m    400\u001b[0m \u001b[0;34m\u001b[0m\u001b[0m\n",
      "\u001b[0;32m<ipython-input-11-cc3c2d74d618>\u001b[0m in \u001b[0;36m<lambda>\u001b[0;34m(y)\u001b[0m\n\u001b[1;32m     19\u001b[0m     \u001b[0;32mdef\u001b[0m \u001b[0mcalc_I_phi\u001b[0m\u001b[0;34m(\u001b[0m\u001b[0mx\u001b[0m\u001b[0;34m,\u001b[0m\u001b[0mphi\u001b[0m\u001b[0;34m)\u001b[0m\u001b[0;34m:\u001b[0m\u001b[0;34m\u001b[0m\u001b[0m\n\u001b[1;32m     20\u001b[0m         \u001b[0mx\u001b[0m\u001b[0;34m.\u001b[0m\u001b[0mDelta2\u001b[0m \u001b[0;34m=\u001b[0m \u001b[0mabs\u001b[0m\u001b[0;34m(\u001b[0m\u001b[0mx\u001b[0m\u001b[0;34m.\u001b[0m\u001b[0mDelta2\u001b[0m\u001b[0;34m)\u001b[0m\u001b[0;34m*\u001b[0m\u001b[0mnp\u001b[0m\u001b[0;34m.\u001b[0m\u001b[0mexp\u001b[0m\u001b[0;34m(\u001b[0m\u001b[0;36m1j\u001b[0m\u001b[0;34m*\u001b[0m\u001b[0mphi\u001b[0m\u001b[0;34m)\u001b[0m\u001b[0;34m\u001b[0m\u001b[0m\n\u001b[0;32m---> 21\u001b[0;31m         \u001b[0;32mreturn\u001b[0m \u001b[0mscipy\u001b[0m\u001b[0;34m.\u001b[0m\u001b[0mintegrate\u001b[0m\u001b[0;34m.\u001b[0m\u001b[0mquad\u001b[0m\u001b[0;34m(\u001b[0m\u001b[0;32mlambda\u001b[0m \u001b[0my\u001b[0m \u001b[0;34m:\u001b[0m \u001b[0mcurrent_E\u001b[0m\u001b[0;34m(\u001b[0m\u001b[0my\u001b[0m\u001b[0;34m,\u001b[0m\u001b[0mx\u001b[0m\u001b[0;34m)\u001b[0m\u001b[0;34m,\u001b[0m\u001b[0;34m-\u001b[0m\u001b[0;36m5e-3\u001b[0m\u001b[0;34m,\u001b[0m\u001b[0;36m5e-3\u001b[0m\u001b[0;34m,\u001b[0m\u001b[0mepsrel\u001b[0m\u001b[0;34m=\u001b[0m\u001b[0;36m1e-4\u001b[0m\u001b[0;34m,\u001b[0m\u001b[0mpoints\u001b[0m\u001b[0;34m=\u001b[0m\u001b[0;34m[\u001b[0m\u001b[0;36m0e-2\u001b[0m\u001b[0;34m]\u001b[0m\u001b[0;34m)\u001b[0m\u001b[0;34m\u001b[0m\u001b[0m\n\u001b[0m\u001b[1;32m     22\u001b[0m     \u001b[0;32mimport\u001b[0m \u001b[0mtime\u001b[0m\u001b[0;34m\u001b[0m\u001b[0m\n\u001b[1;32m     23\u001b[0m     \u001b[0mst\u001b[0m \u001b[0;34m=\u001b[0m \u001b[0mtime\u001b[0m\u001b[0;34m.\u001b[0m\u001b[0mtime\u001b[0m\u001b[0;34m(\u001b[0m\u001b[0;34m)\u001b[0m\u001b[0;34m\u001b[0m\u001b[0m\n",
      "\u001b[0;32m<ipython-input-4-55ce1f390827>\u001b[0m in \u001b[0;36mcurrent_E\u001b[0;34m(E, physics)\u001b[0m\n\u001b[1;32m     79\u001b[0m        \u001b[0;32mreturn\u001b[0m \u001b[0mg\u001b[0m\u001b[0;34m\u001b[0m\u001b[0m\n\u001b[1;32m     80\u001b[0m \u001b[0;34m\u001b[0m\u001b[0m\n\u001b[0;32m---> 81\u001b[0;31m    \u001b[0mg_1\u001b[0m \u001b[0;34m=\u001b[0m \u001b[0msurface_g\u001b[0m\u001b[0;34m(\u001b[0m\u001b[0mE\u001b[0m\u001b[0;34m,\u001b[0m\u001b[0mphysical_parameters_S1\u001b[0m\u001b[0;34m)\u001b[0m\u001b[0;34m\u001b[0m\u001b[0m\n\u001b[0m\u001b[1;32m     82\u001b[0m    \u001b[0mg_2\u001b[0m \u001b[0;34m=\u001b[0m \u001b[0msurface_g\u001b[0m\u001b[0;34m(\u001b[0m\u001b[0mE\u001b[0m\u001b[0;34m,\u001b[0m\u001b[0mphysical_parameters_S2\u001b[0m\u001b[0;34m)\u001b[0m\u001b[0;34m\u001b[0m\u001b[0m\n\u001b[1;32m     83\u001b[0m \u001b[0;34m\u001b[0m\u001b[0m\n",
      "\u001b[0;32m<ipython-input-4-55ce1f390827>\u001b[0m in \u001b[0;36msurface_g\u001b[0;34m(E, physical_parameters)\u001b[0m\n\u001b[1;32m     67\u001b[0m        \u001b[0;31m# iterate over iter_limit iterations or until err < err_limit\u001b[0m\u001b[0;34m\u001b[0m\u001b[0;34m\u001b[0m\u001b[0m\n\u001b[1;32m     68\u001b[0m        \u001b[0;32mfor\u001b[0m \u001b[0mi\u001b[0m \u001b[0;32min\u001b[0m \u001b[0mrange\u001b[0m\u001b[0;34m(\u001b[0m\u001b[0miter_limit\u001b[0m\u001b[0;34m)\u001b[0m\u001b[0;34m:\u001b[0m\u001b[0;34m\u001b[0m\u001b[0m\n\u001b[0;32m---> 69\u001b[0;31m            \u001b[0mg\u001b[0m \u001b[0;34m=\u001b[0m \u001b[0mnp\u001b[0m\u001b[0;34m.\u001b[0m\u001b[0mlinalg\u001b[0m\u001b[0;34m.\u001b[0m\u001b[0minv\u001b[0m\u001b[0;34m(\u001b[0m\u001b[0;34m(\u001b[0m\u001b[0mE\u001b[0m \u001b[0;34m+\u001b[0m \u001b[0;36m1j\u001b[0m\u001b[0;34m*\u001b[0m\u001b[0meta\u001b[0m\u001b[0;34m)\u001b[0m\u001b[0;34m*\u001b[0m\u001b[0mnp\u001b[0m\u001b[0;34m.\u001b[0m\u001b[0meye\u001b[0m\u001b[0;34m(\u001b[0m\u001b[0malpha\u001b[0m\u001b[0;34m.\u001b[0m\u001b[0mshape\u001b[0m\u001b[0;34m[\u001b[0m\u001b[0;36m0\u001b[0m\u001b[0;34m]\u001b[0m\u001b[0;34m)\u001b[0m \u001b[0;34m-\u001b[0m \u001b[0malpha\u001b[0m \u001b[0;34m-\u001b[0m \u001b[0mnp\u001b[0m\u001b[0;34m.\u001b[0m\u001b[0mdot\u001b[0m\u001b[0;34m(\u001b[0m\u001b[0mnp\u001b[0m\u001b[0;34m.\u001b[0m\u001b[0mdot\u001b[0m\u001b[0;34m(\u001b[0m\u001b[0mnp\u001b[0m\u001b[0;34m.\u001b[0m\u001b[0mconj\u001b[0m\u001b[0;34m(\u001b[0m\u001b[0mbeta\u001b[0m\u001b[0;34m.\u001b[0m\u001b[0mT\u001b[0m\u001b[0;34m)\u001b[0m\u001b[0;34m,\u001b[0m\u001b[0mg\u001b[0m\u001b[0;34m)\u001b[0m\u001b[0;34m,\u001b[0m\u001b[0mbeta\u001b[0m\u001b[0;34m)\u001b[0m\u001b[0;34m)\u001b[0m\u001b[0;34m\u001b[0m\u001b[0m\n\u001b[0m\u001b[1;32m     70\u001b[0m            \u001b[0mg\u001b[0m \u001b[0;34m=\u001b[0m \u001b[0;36m0.5\u001b[0m\u001b[0;34m*\u001b[0m\u001b[0;34m(\u001b[0m\u001b[0mg\u001b[0m \u001b[0;34m+\u001b[0m \u001b[0mg_old\u001b[0m\u001b[0;34m)\u001b[0m\u001b[0;34m\u001b[0m\u001b[0m\n\u001b[1;32m     71\u001b[0m \u001b[0;34m\u001b[0m\u001b[0m\n",
      "\u001b[0;31mKeyboardInterrupt\u001b[0m: "
     ]
    },
    {
     "data": {
      "image/png": "[encoded data removed]",
      "text/plain": [
       "<matplotlib.figure.Figure at 0x11433ecf8>"
      ]
     },
     "metadata": {},
     "output_type": "display_data"
    },
    {
     "data": {
      "image/png": "[encoded data removed]",
      "text/plain": [
       "<matplotlib.figure.Figure at 0x1140c5ac8>"
      ]
     },
     "metadata": {},
     "output_type": "display_data"
    }
   ],
   "source": [
    "N_f = 10\n",
    "flux_lin = np.linspace(0.0,5,N_f)\n",
    "for i in range(N_f):\n",
    "    physics = Physics()\n",
    "\n",
    "    physics.N_z = 2\n",
    "    physics.N_phi = 10\n",
    "    physics.flux = flux_lin[i]\n",
    "    physics.t_z = 1\n",
    "    physics.t_phi = 1*np.exp(1j*2*np.pi*physics.flux/physics.N_phi)\n",
    "    physics.Delta1 = 1e-2\n",
    "    physics.Delta2 = 1e-2*np.exp(1j*phi)\n",
    "    physics.mu_1 = 2\n",
    "    physics.mu_2 = 2\n",
    "    physics.eta = 1e-6\n",
    "    physics.kT = 1e-5\n",
    "\n",
    "    import scipy.integrate\n",
    "    def calc_I_phi(x,phi): \n",
    "        x.Delta2 = abs(x.Delta2)*np.exp(1j*phi)\n",
    "        return scipy.integrate.quad(lambda y : current_E(y,x),-5e-3,5e-3,epsrel=1e-4,points=[0e-2])\n",
    "    import time\n",
    "    st = time.time()\n",
    "    I_phi = [calc_I_phi(physics,phi) for phi in np.linspace(0,2*np.pi,25)]\n",
    "    print(physics.flux)\n",
    "    plt.figure(i+1)\n",
    "    plt.plot(np.linspace(0,2*np.pi,len(I_phi)),I_phi)\n",
    "    plt.xlabel('Phase Diff.')\n",
    "    plt.ylabel('Current')\n",
    "    print(time.time()-st)"
   ]
  },
  {
   "cell_type": "code",
   "execution_count": 223,
   "metadata": {},
   "outputs": [
    {
     "data": {
      "text/plain": [
       "[(4.687255005696094e-18, 5.677782110614789e-18),\n",
       " (0.0012116754194972325, 1.0731157578413564e-07),\n",
       " (0.002417597456708198, 1.994035994662283e-07),\n",
       " (0.0036120606769792112, 4.786053441807516e-07),\n",
       " (0.004789461037043262, 1.540985965503539e-06),\n",
       " (0.0059443720506713125, 3.1016281085584742e-06),\n",
       " (0.007071656907022689, 1.0095671699485425e-06),\n",
       " (0.008166659125440071, 1.4572151003312416e-05),\n",
       " (0.009225536051104101, 3.4116370457145696e-05),\n",
       " (0.01024595159732204, 3.760398227872937e-05),\n",
       " (0.011228448696639711, 1.3090315088820485e-06),\n",
       " (0.012179855754081283, 1.5928252228822098e-06),\n",
       " (0.013122379192560938, 2.0684660083065227e-06),\n",
       " (0.014123912680744454, 0.00012682814036133426),\n",
       " (0.01543976951451105, 2.0467671626006254e-05),\n",
       " (0.018923784051582956, 4.9420283845915194e-06),\n",
       " (0.05602133662344757, 1.338687771513115e-05),\n",
       " (0.06341176085143899, 0.0005034395823359586),\n",
       " (0.06586037591903204, 1.6051117725571044e-05),\n",
       " (0.06724728345037705, 0.00038258755319261605),\n",
       " (0.0678346769499544, 9.148752142195023e-05),\n",
       " (0.06748615137000015, 4.811988522698471e-05),\n",
       " (0.06573887825977871, 0.000480071933220071),\n",
       " (0.06135616979771052, 0.00030647063477420855),\n",
       " (0.048082915514303104, 0.0001072789277920469),\n",
       " (-0.04808291550446406, 0.00010727889439643076),\n",
       " (-0.06135616979609351, 0.00030647081401640255),\n",
       " (-0.06573887821897881, 0.0004800724749729913),\n",
       " (-0.06748615134472896, 4.8118560558332813e-05),\n",
       " (-0.06783467691141802, 9.14874908843732e-05),\n",
       " (-0.06724728342194854, 0.0003825882401814239),\n",
       " (-0.0658603758849446, 1.6051704739990756e-05),\n",
       " (-0.06341176076254541, 0.0005034411193619138),\n",
       " (-0.0560213365949752, 1.3386714439003614e-05),\n",
       " (-0.018923784043650894, 4.9421398907042394e-06),\n",
       " (-0.015439769513924508, 2.0467592555653558e-05),\n",
       " (-0.014123912666518575, 0.00012682810192994078),\n",
       " (-0.013122379261224462, 2.068730870792904e-06),\n",
       " (-0.012179855802667464, 1.5932905863901383e-06),\n",
       " (-0.01122844874924203, 1.3090925787545419e-06),\n",
       " (-0.010245951614464668, 3.7603240787551504e-05),\n",
       " (-0.00922553601771936, 3.4116655577219514e-05),\n",
       " (-0.008166659184611087, 1.4572657785245674e-05),\n",
       " (-0.0070716569279891525, 1.0095613999288808e-06),\n",
       " (-0.005944372075867333, 3.101149238196924e-06),\n",
       " (-0.004789461085001672, 1.5416029088674479e-06),\n",
       " (-0.0036120607089969855, 4.789386037375295e-07),\n",
       " (-0.0024175975202631772, 1.985514798972035e-07),\n",
       " (-0.001211675459224915, 1.0764871646341145e-07),\n",
       " (4.687255005696094e-18, 5.677782110614789e-18)]"
      ]
     },
     "execution_count": 223,
     "metadata": {},
     "output_type": "execute_result"
    }
   ],
   "source": [
    "I_phi"
   ]
  },
  {
   "cell_type": "code",
   "execution_count": null,
   "metadata": {
    "collapsed": true
   },
   "outputs": [],
   "source": []
  }
 ],
 "metadata": {
  "kernelspec": {
   "display_name": "Python 3",
   "language": "python",
   "name": "python3"
  },
  "language_info": {
   "codemirror_mode": {
    "name": "ipython",
    "version": 3
   },
   "file_extension": ".py",
   "mimetype": "text/x-python",
   "name": "python",
   "nbconvert_exporter": "python",
   "pygments_lexer": "ipython3",
   "version": "3.5.2"
  }
 },
 "nbformat": 4,
 "nbformat_minor": 2
}
