{
 "cells": [
  {
   "cell_type": "markdown",
   "metadata": {},
   "source": [
    "# SNS Junctions Josephson effect\n",
    "\n",
    "This notebook contains the code to calculate transport properties of SNS junctions using a Green's function approach.\n",
    "\n",
    "The calculation starts by constructing a microscopic Hamiltonian for a $N_{\\text{lat}} \\times N_{\\text{lat}} \\times N_z$ device. The Hamiltonian is constructed under the tight-binding model with only nearest neighbour interactions.\n",
    "\n",
    "In order to incorportate superconductivity in the calculations, BdG form of the Hamiltonian matrix elements is used. The Hamiltonian is described by two parameters $\\alpha$ and $\\beta$.\n",
    "\n",
    "Generally,\n",
    "\\begin{align*}\n",
    "    \\alpha &= \\begin{pmatrix} 2t & \\Delta \\\\ \\Delta* & -2t \\end{pmatrix} \\\\\n",
    "    \\beta &= \\begin{pmatrix} t & 0 \\\\ 0 & -t \\end{pmatrix}\n",
    "\\end{align*}\n",
    "where $t$ is controlled by the lattice spacing and is equal to the hopping energy and $\\Delta$ is the superconducting pairing potential.\n",
    "\n",
    "One can think of the two indices in the BdG matrix elements as corresponding to up spin electrons and down spin holes. Superconductivity is induced by a pairing between these two populations to form composite Cooper pairs."
   ]
  },
  {
   "cell_type": "code",
   "execution_count": 11,
   "metadata": {},
   "outputs": [],
   "source": [
    "# Trying out the functional calculation of the Hamiltonian\n",
    "\n",
    "import numpy as np\n",
    "import itertools\n",
    "import scipy.special\n",
    "\n",
    "\n",
    "def create_Hamiltonian(dimensions,physical_parameters):\n",
    "    '''\n",
    "    dimensions : dictionary with the following three numbers,\n",
    "        N_lat : number of points laterally\n",
    "        N_z : number of points in the z direction\n",
    "        N_int : number of internal degrees of freedom = 1,2,4\n",
    "    physical_paramters : dictionary with the revelant physical parameters\n",
    "    '''\n",
    "    N_lat = dimensions['N_lat']\n",
    "    N_z = dimensions['N_z']\n",
    "    N_int = dimensions['N_int']\n",
    "    \n",
    "    t = physical_parameters['t']\n",
    "    Delta = physical_parameters['Delta']\n",
    "    \n",
    "    # Hamiltonian element functions\n",
    "    def create_alpha(ind):\n",
    "        if N_int == 1:\n",
    "            alpha = 2*t\n",
    "        elif N_int == 2:\n",
    "            alpha = np.array([[2*t,Delta],[np.conj(Delta),-2*t]])\n",
    "        \n",
    "        return alpha\n",
    "\n",
    "    def create_beta(ind1,ind2):\n",
    "        if N_int == 1:\n",
    "            beta = -t\n",
    "        elif N_int == 2:\n",
    "            beta = np.array([[t,0],[0,-t]])\n",
    "    \n",
    "        return beta\n",
    "\n",
    "    def create_zero():\n",
    "        if N_int == 1:\n",
    "            return 0.0\n",
    "        elif N_int == 2:\n",
    "            return np.zeros((2,2))\n",
    "    \n",
    "    def func_H(ind1,ind2):\n",
    "        if ind1 == ind2:\n",
    "            return create_alpha(ind1)\n",
    "        elif tuple(abs(x) for x in tuple(i-j for i,j in zip(ind1,ind2))) \\\n",
    "        in [(0,0,1),(0,1,0),(1,0,0)]:\n",
    "            return create_beta(ind1,ind2)\n",
    "        else:\n",
    "            return create_zero()\n",
    "\n",
    "    # list of space indices of the Hamiltonian    \n",
    "    indices = list(itertools.product(range(N_lat),range(N_lat),range(N_z)))\n",
    "    H = [func_H(ind1,ind2) for ind1,ind2 in itertools.product(indices, indices)]\n",
    "\n",
    "    N = N_lat*N_lat*N_z\n",
    "\n",
    "    H_ar = np.array(H,dtype=np.complex64).reshape((N,N,N_int,N_int))\n",
    "    H_mat = np.array([H_ar[x,:,y,:].flatten() for x in range(H_ar.shape[0]) for y in range(H_ar.shape[2])])\\\n",
    "    .flatten().reshape(N_int*N,N_int*N)\n",
    "\n",
    "    return H_mat\n",
    "\n",
    "def current_E(E,dimensions, physics):\n",
    "    # dimensions\n",
    "    N_lat = dimensions['N_lat']\n",
    "    N_z =  dimensions['N_z']\n",
    "    N_int = dimensions['N_int']\n",
    "  \n",
    "    # create the physical paramters dictionaries to create the respective Hamiltonians for S1-N-S2\n",
    "    physical_parameters_N = {'t' : physics['t'],'Delta' : 0.0}\n",
    "    physical_parameters_S_1 = {'t' : physics['t'],'Delta' : physics['Delta_1']}\n",
    "    physical_parameters_S_2 = {'t' : physics['t'],'Delta' : physics['Delta_2']}\n",
    "    \n",
    "    # create the local variables\n",
    "    eta = physics['eta']\n",
    "    kT = physics['kT']\n",
    "    mu_1 = physics['mu_1']\n",
    "    mu_2 = physics['mu_2']\n",
    "    \n",
    "    \n",
    "    \n",
    "    def surface_g(E,physical_parameters):\n",
    "        # create a dummy Hamiltonian with two layers to get the hopping element beta and the layer element alpha\n",
    "        \n",
    "        dummy_dimensions = dimensions.copy()\n",
    "        dummy_dimensions['N_z'] = 2\n",
    "        \n",
    "        H_mat = create_Hamiltonian(dummy_dimensions,physical_parameters)\n",
    "\n",
    "        N_dof_lat = N_lat*N_lat*N_int\n",
    "\n",
    "        alpha = H_mat[:N_dof_lat,:N_dof_lat]\n",
    "        beta = H_mat[:N_dof_lat,N_dof_lat:2*N_dof_lat]\n",
    "\n",
    "        err = 1.0\n",
    "        iter_count = 0\n",
    "        iter_limit = 50000\n",
    "        err_limit = 1e-4\n",
    "\n",
    "        g = np.eye(alpha.shape[0],dtype=np.complex64)\n",
    "        g_old = np.eye(alpha.shape[0],dtype=np.complex64)\n",
    "        # iterate over iter_limit iterations or until err < err_limit\n",
    "        for i in range(iter_limit):\n",
    "            g = np.linalg.inv((E + 1j*eta)*np.eye(alpha.shape[0]) - alpha - np.dot(np.dot(beta,g),beta))\n",
    "            g = 0.5*(g + g_old)\n",
    "\n",
    "            err = np.linalg.norm(g-g_old)/np.sqrt(np.linalg.norm(g)*np.linalg.norm(g_old))\n",
    "            g_old = g\n",
    "            if(err < err_limit):\n",
    "                #print(\"Finished at\",i,\"Error :\",err)\n",
    "                break;\n",
    "            if(i == (iter_limit - 1)):\n",
    "                print(\"iter_limit hit in calculation of surface_g\",err)\n",
    "        return g\n",
    "    \n",
    "    g_1 = surface_g(E,physical_parameters_S_1)\n",
    "    g_2 = surface_g(E,physical_parameters_S_2)\n",
    "    \n",
    "    H_mat = create_Hamiltonian(dimensions,physical_parameters_N)\n",
    "    \n",
    "    #number of dof in a layer\n",
    "    N_dof_lat = N_lat*N_lat*N_int\n",
    "    # the hopping element between layers\n",
    "    beta_layer = H_mat[:N_dof_lat,N_dof_lat:2*N_dof_lat]\n",
    "    \n",
    "    # the only non-zero elements in sigma\n",
    "    sigma_mini_1 = np.dot(np.dot(beta_layer,g_1),beta_layer)\n",
    "    sigma_mini_2 = np.dot(np.dot(beta_layer,g_2),beta_layer)\n",
    "    \n",
    "    sigma_1 = np.zeros(H_mat.shape,dtype=np.complex64)\n",
    "    sigma_1[:N_dof_lat,:N_dof_lat] = sigma_mini_1\n",
    "    gamma_1 = 1j*(sigma_1 - np.conj(sigma_1).T)\n",
    "    \n",
    "    sigma_2 = np.zeros(H_mat.shape,dtype=np.complex64)\n",
    "    sigma_2[-N_dof_lat:,-N_dof_lat:] = sigma_mini_2\n",
    "    gamma_2 = 1j*(sigma_2 - np.conj(sigma_2).T)    \n",
    "    \n",
    "    def fermi(E,kT):\n",
    "        return scipy.special.expit(-E/kT)\n",
    "    \n",
    "    def generate_fermi_matrix(E,mu,kT,N_int):\n",
    "        if N_int == 1:\n",
    "            return fermi(E-mu,kT)\n",
    "        elif N_int == 2:\n",
    "            return np.array([[fermi(E - mu,kT),0],[0,1 - fermi(E + mu,kT)]])\n",
    "        \n",
    "    F1 = np.kron(np.eye(N_lat*N_lat*N_z),generate_fermi_matrix(E,mu_1,kT,N_int))\n",
    "    F2 = np.kron(np.eye(N_lat*N_lat*N_z),generate_fermi_matrix(E,mu_2,kT,N_int))\n",
    "    \n",
    "    sigma_in = np.dot(gamma_1,F1) + np.dot(gamma_2,F2)\n",
    "\n",
    "    G = np.linalg.inv((E + 1j*eta)*np.eye(H_mat.shape[0]) - H_mat - sigma_1 - sigma_2)\n",
    "    \n",
    "    A = 1j*(G - np.conj(G).T)\n",
    "    \n",
    "    G_n = np.dot(np.dot(G,sigma_in),np.conj(G).T)\n",
    "    rho = np.trace(G_n)\n",
    "    \n",
    "    I_mat = np.dot(G_n[:N_dof_lat,N_dof_lat:2*N_dof_lat],beta_layer) \\\n",
    "            - np.dot(G_n[N_dof_lat:2*N_dof_lat,:N_dof_lat],beta_layer)\n",
    "    #I_mat = np.dot(gamma_1,np.dot(np.conj(G).T,np.dot(gamma_2,G))) \n",
    "    #I = np.trace(np.dot(I_mat,F1-F2))\n",
    "    I = np.real(np.trace(I_mat[0::2,0::2]) - np.trace(I_mat[1::2,1::2]))\n",
    "\n",
    "    return I,rho"
   ]
  },
  {
   "cell_type": "code",
   "execution_count": 26,
   "metadata": {},
   "outputs": [
    {
     "name": "stderr",
     "output_type": "stream",
     "text": [
      "/usr/local/lib/python3.5/site-packages/scipy/integrate/quadpack.py:388: ComplexWarning: Casting complex values to real discards the imaginary part\n",
      "  return _quadpack._qagse(func,a,b,args,full_output,epsabs,epsrel,limit)\n"
     ]
    },
    {
     "name": "stdout",
     "output_type": "stream",
     "text": [
      "Time 176.8113021850586\n"
     ]
    },
    {
     "data": {
      "text/plain": [
       "[<matplotlib.lines.Line2D at 0x1160c03c8>,\n",
       " <matplotlib.lines.Line2D at 0x1160c05f8>]"
      ]
     },
     "execution_count": 26,
     "metadata": {},
     "output_type": "execute_result"
    },
    {
     "data": {
      "image/png": "[encoded data removed]",
      "text/plain": [
       "<matplotlib.figure.Figure at 0x115cdf748>"
      ]
     },
     "metadata": {},
     "output_type": "display_data"
    }
   ],
   "source": [
    "# Actual numerical simulation\n",
    "\n",
    "def I_phase(phi):\n",
    "    dimensions = {'N_lat' : 1,\n",
    "                  'N_z'   : 5,\n",
    "                  'N_int' : 2\n",
    "    }\n",
    "\n",
    "    physics = {'eta'     : 1e-8,\n",
    "               't'       : 1,\n",
    "               'mu_1'    : 1,\n",
    "               'mu_2'    : 1,\n",
    "               'Delta_1' : 0.5e-3,            \n",
    "               'Delta_2' : 0.5e-3*np.exp(1j*phi),            \n",
    "               'kT'      : 1e-2\n",
    "    }\n",
    "\n",
    "\n",
    "    #E_linspace = np.linspace(-4,4,100)\n",
    "    #I_E = [current_E(E,dimensions,physics)[0] for E in E_linspace]\n",
    "\n",
    "    #I = np.sum(np.array(I_E))\n",
    "    \n",
    "    import scipy.integrate\n",
    "    t = physics['t']\n",
    "    I = scipy.integrate.quad(lambda x: current_E(x,dimensions,physics)[0],-4*t,4*t)\n",
    "    return I\n",
    "\n",
    "phase_vec = np.linspace(0,2*np.pi,100)\n",
    "import time\n",
    "st = time.time()\n",
    "I_vec = np.array([I_phase(x) for x in phase_vec])\n",
    "print(\"Time\",time.time()-st)\n",
    "\n",
    "import matplotlib.pyplot as plt\n",
    "%matplotlib inline\n",
    "\n",
    "plt.plot(phase_vec,I_vec)\n",
    "\n"
   ]
  },
  {
   "cell_type": "code",
   "execution_count": 23,
   "metadata": {},
   "outputs": [
    {
     "data": {
      "text/plain": [
       "[<matplotlib.lines.Line2D at 0x115b26a90>]"
      ]
     },
     "execution_count": 23,
     "metadata": {},
     "output_type": "execute_result"
    },
    {
     "data": {
      "image/png": "[encoded data removed]",
      "text/plain": [
       "<matplotlib.figure.Figure at 0x115b015c0>"
      ]
     },
     "metadata": {},
     "output_type": "display_data"
    }
   ],
   "source": [
    "plt.plot(I_vec[:,1])"
   ]
  },
  {
   "cell_type": "code",
   "execution_count": null,
   "metadata": {
    "collapsed": true
   },
   "outputs": [],
   "source": []
  }
 ],
 "metadata": {
  "kernelspec": {
   "display_name": "Python 3",
   "language": "python",
   "name": "python3"
  },
  "language_info": {
   "codemirror_mode": {
    "name": "ipython",
    "version": 3
   },
   "file_extension": ".py",
   "mimetype": "text/x-python",
   "name": "python",
   "nbconvert_exporter": "python",
   "pygments_lexer": "ipython3",
   "version": "3.5.2"
  }
 },
 "nbformat": 4,
 "nbformat_minor": 2
}
